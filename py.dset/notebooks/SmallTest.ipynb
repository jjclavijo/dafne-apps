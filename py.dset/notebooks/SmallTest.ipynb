{
 "cells": [
  {
   "cell_type": "code",
   "execution_count": 1,
   "id": "a1cb9acc-1b53-4a29-87b4-70e5f1c13966",
   "metadata": {},
   "outputs": [],
   "source": [
    "import dafnedset as daf"
   ]
  },
  {
   "cell_type": "code",
   "execution_count": 2,
   "id": "9c7cf4b8-4226-4a34-bfd1-9cdaa5eb1e87",
   "metadata": {},
   "outputs": [],
   "source": [
    "import dafnedset.base as basedaf"
   ]
  },
  {
   "cell_type": "code",
   "execution_count": 3,
   "id": "abf0522c-add8-427f-89b4-673bbd15e0e1",
   "metadata": {},
   "outputs": [
    {
     "ename": "FileNotFoundError",
     "evalue": "[Errno 2] No such file or directory: '../datos/raw-.pq'",
     "output_type": "error",
     "traceback": [
      "\u001b[0;31m---------------------------------------------------------------------------\u001b[0m",
      "\u001b[0;31mFileNotFoundError\u001b[0m                         Traceback (most recent call last)",
      "\u001b[0;32m<ipython-input-3-547ae94a0ba0>\u001b[0m in \u001b[0;36m<module>\u001b[0;34m\u001b[0m\n\u001b[0;32m----> 1\u001b[0;31m \u001b[0mrawN\u001b[0m \u001b[0;34m=\u001b[0m \u001b[0mbasedaf\u001b[0m\u001b[0;34m.\u001b[0m\u001b[0mCachedLoader\u001b[0m\u001b[0;34m.\u001b[0m\u001b[0mread_parquet\u001b[0m\u001b[0;34m(\u001b[0m\u001b[0;34m'../datos/raw-.pq'\u001b[0m\u001b[0;34m)\u001b[0m\u001b[0;34m\u001b[0m\u001b[0;34m\u001b[0m\u001b[0m\n\u001b[0m\u001b[1;32m      2\u001b[0m \u001b[0mrawP\u001b[0m \u001b[0;34m=\u001b[0m \u001b[0mbasedaf\u001b[0m\u001b[0;34m.\u001b[0m\u001b[0mCachedLoader\u001b[0m\u001b[0;34m.\u001b[0m\u001b[0mread_parquet\u001b[0m\u001b[0;34m(\u001b[0m\u001b[0;34m'../datos/raw+.pq'\u001b[0m\u001b[0;34m)\u001b[0m\u001b[0;34m\u001b[0m\u001b[0;34m\u001b[0m\u001b[0m\n",
      "\u001b[0;32m~/proy/dafne/apps/py.dset/venv/lib/python3.9/site-packages/dafnedset/base.py\u001b[0m in \u001b[0;36mread_parquet\u001b[0;34m(cls, parquet_path, **kwargs)\u001b[0m\n\u001b[1;32m    502\u001b[0m     \u001b[0;32mdef\u001b[0m \u001b[0mread_parquet\u001b[0m\u001b[0;34m(\u001b[0m\u001b[0mcls\u001b[0m\u001b[0;34m,\u001b[0m\u001b[0mparquet_path\u001b[0m\u001b[0;34m,\u001b[0m\u001b[0;34m**\u001b[0m\u001b[0mkwargs\u001b[0m\u001b[0;34m)\u001b[0m\u001b[0;34m:\u001b[0m\u001b[0;34m\u001b[0m\u001b[0;34m\u001b[0m\u001b[0m\n\u001b[1;32m    503\u001b[0m         \u001b[0;32mtry\u001b[0m\u001b[0;34m:\u001b[0m\u001b[0;34m\u001b[0m\u001b[0;34m\u001b[0m\u001b[0m\n\u001b[0;32m--> 504\u001b[0;31m             \u001b[0mopen\u001b[0m\u001b[0;34m(\u001b[0m\u001b[0mparquet_path\u001b[0m\u001b[0;34m,\u001b[0m\u001b[0;34m'r'\u001b[0m\u001b[0;34m)\u001b[0m\u001b[0;34m.\u001b[0m\u001b[0mclose\u001b[0m\u001b[0;34m(\u001b[0m\u001b[0;34m)\u001b[0m\u001b[0;34m\u001b[0m\u001b[0;34m\u001b[0m\u001b[0m\n\u001b[0m\u001b[1;32m    505\u001b[0m         \u001b[0;32mexcept\u001b[0m \u001b[0mOSError\u001b[0m\u001b[0;34m:\u001b[0m\u001b[0;34m\u001b[0m\u001b[0;34m\u001b[0m\u001b[0m\n\u001b[1;32m    506\u001b[0m             \u001b[0;32mraise\u001b[0m\u001b[0;34m\u001b[0m\u001b[0;34m\u001b[0m\u001b[0m\n",
      "\u001b[0;31mFileNotFoundError\u001b[0m: [Errno 2] No such file or directory: '../datos/raw-.pq'"
     ]
    }
   ],
   "source": [
    "rawN = basedaf.CachedLoader.read_parquet('../datos/raw-.pq')\n",
    "rawP = basedaf.CachedLoader.read_parquet('../datos/raw+.pq')"
   ]
  },
  {
   "cell_type": "code",
   "execution_count": null,
   "id": "ad555caf-3c9d-43f7-8897-176e1051ea33",
   "metadata": {},
   "outputs": [],
   "source": [
    "for i in rawN:\n",
    "    a = i"
   ]
  },
  {
   "cell_type": "code",
   "execution_count": null,
   "id": "3ec963cd-713d-437c-a51f-383440855455",
   "metadata": {},
   "outputs": [],
   "source": [
    "import dafnedset.fun_transformations as daffuns"
   ]
  },
  {
   "cell_type": "code",
   "execution_count": null,
   "id": "ad0b130c-bb5f-49e7-a551-4858618d6455",
   "metadata": {},
   "outputs": [],
   "source": [
    "from importlib import reload"
   ]
  },
  {
   "cell_type": "code",
   "execution_count": null,
   "id": "b95f1502-c415-476c-9f71-97e5a7a012a4",
   "metadata": {},
   "outputs": [],
   "source": [
    "daffuns = reload(daffuns)"
   ]
  },
  {
   "cell_type": "code",
   "execution_count": null,
   "id": "dd1e5a67-99f5-4887-be0d-3104ac2cd472",
   "metadata": {},
   "outputs": [],
   "source": [
    "trscale = daffuns.scale()"
   ]
  },
  {
   "cell_type": "code",
   "execution_count": null,
   "id": "8accdabe-0401-4b5b-b537-3944779c8452",
   "metadata": {},
   "outputs": [],
   "source": [
    "pda = a.to_pandas()\n",
    "pda.loc[:,['norte','este','altura']] = pda.loc[:,['norte','este','altura']] +1"
   ]
  },
  {
   "cell_type": "code",
   "execution_count": null,
   "id": "396aed61-da60-40cf-8d89-b12ad2b7f251",
   "metadata": {},
   "outputs": [],
   "source": [
    "from pyarrow import RecordBatch as rb"
   ]
  },
  {
   "cell_type": "code",
   "execution_count": null,
   "id": "c90a4b12-6f6a-4367-8ba9-1406b97e9ac9",
   "metadata": {},
   "outputs": [],
   "source": [
    "escalada = trscale(rb.from_pandas(pda)).to_pandas()\n",
    "original = pda"
   ]
  },
  {
   "cell_type": "code",
   "execution_count": null,
   "id": "88f469aa-5fd7-4a88-b3c5-78ecee02c03e",
   "metadata": {},
   "outputs": [],
   "source": [
    "import numpy as np"
   ]
  },
  {
   "cell_type": "code",
   "execution_count": null,
   "id": "fa2a80e1-b5e0-49b7-ae68-71b1696683a7",
   "metadata": {},
   "outputs": [],
   "source": [
    "original.norte.apply(np.nanmean).max()"
   ]
  },
  {
   "cell_type": "code",
   "execution_count": null,
   "id": "d92f1806-ea96-49d1-b7f5-98039d4aa88f",
   "metadata": {},
   "outputs": [],
   "source": [
    "trlabel = daffuns.label_batch(1,'etiqueta')"
   ]
  },
  {
   "cell_type": "code",
   "execution_count": null,
   "id": "331d7d5b-d09a-41e1-8eaa-b1d91a32b350",
   "metadata": {},
   "outputs": [],
   "source": [
    "trlabel(a).column('etiqueta')"
   ]
  },
  {
   "cell_type": "code",
   "execution_count": null,
   "id": "2a48b0ec-d3e3-42f7-8cbe-a20873297b10",
   "metadata": {},
   "outputs": [],
   "source": [
    "from dafnedset.presets import fakeraw as fr"
   ]
  },
  {
   "cell_type": "code",
   "execution_count": null,
   "id": "87c7cfa4-b6aa-4543-bf97-0dad71b047d7",
   "metadata": {},
   "outputs": [],
   "source": [
    "for i in fr.data:\n",
    "    a = i"
   ]
  },
  {
   "cell_type": "code",
   "execution_count": null,
   "id": "5ec8b7db-f85e-4a49-90fd-3542945980fd",
   "metadata": {},
   "outputs": [],
   "source": [
    "len(a)"
   ]
  },
  {
   "cell_type": "code",
   "execution_count": null,
   "id": "f8a4fba4-0ba7-4c27-ac6b-8e632fac9e5a",
   "metadata": {},
   "outputs": [],
   "source": []
  }
 ],
 "metadata": {
  "kernelspec": {
   "display_name": "Python 3",
   "language": "python",
   "name": "python3"
  },
  "language_info": {
   "codemirror_mode": {
    "name": "ipython",
    "version": 3
   },
   "file_extension": ".py",
   "mimetype": "text/x-python",
   "name": "python",
   "nbconvert_exporter": "python",
   "pygments_lexer": "ipython3",
   "version": "3.9.5"
  }
 },
 "nbformat": 4,
 "nbformat_minor": 5
}
