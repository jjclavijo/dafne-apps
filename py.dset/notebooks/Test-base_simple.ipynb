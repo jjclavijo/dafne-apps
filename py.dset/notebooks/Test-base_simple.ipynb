{
 "cells": [
  {
   "cell_type": "code",
   "execution_count": 1,
   "id": "d7f1be0d-8531-4b06-b8ab-f392722e4216",
   "metadata": {},
   "outputs": [
    {
     "name": "stdout",
     "output_type": "stream",
     "text": [
      "[build-system]\n",
      "requires = [\"flit_core >=2,<3\"]\n",
      "build-backend = \"flit_core.buildapi\"\n",
      "\n",
      "[tool.flit.metadata]\n",
      "module = \"dafnedset\"\n",
      "author = \"Javier J. Clavijo\"\n",
      "author-email = \"jclavijo@gmail.com\"\n",
      "home-page = \"https://jjclavijo.github.io/pydafne/\"\n",
      "classifiers = [\"License :: OSI Approved :: MIT License\"]\n",
      "requires = [\n",
      "    \"numpy\",\n",
      "    \"pandas\",\n",
      "    \"pyarrow\",\n",
      "    \"psycopg2-binary\",\n",
      "    \"shapely\"\n",
      "]\n",
      "requires-python=\">=3.3\"\n",
      "\n",
      "[tool.flit.scripts]\n",
      "dafne_dataserver = \"dafnedset.serve:main\"\n",
      "dafne_writeparquet = \"dafnedset.parquet:save\"\n"
     ]
    }
   ],
   "source": [
    "!cat /opt/dafnepy/pyproject.toml"
   ]
  },
  {
   "cell_type": "code",
   "execution_count": 3,
   "id": "accab6fa-ba1b-47d7-9c0e-b3d58c3eee21",
   "metadata": {},
   "outputs": [
    {
     "name": "stdout",
     "output_type": "stream",
     "text": [
      "Collecting package metadata (current_repodata.json): done\n",
      "Solving environment: done\n",
      "\n",
      "\n",
      "==> WARNING: A newer version of conda exists. <==\n",
      "  current version: 4.10.1\n",
      "  latest version: 4.10.3\n",
      "\n",
      "Please update conda by running\n",
      "\n",
      "    $ conda update -n base conda\n",
      "\n",
      "\n",
      "\n",
      "## Package Plan ##\n",
      "\n",
      "  environment location: /opt/conda\n",
      "\n",
      "  added / updated specs:\n",
      "    - flit\n",
      "    - numpy\n",
      "    - pandas\n",
      "    - psycopg2-binary\n",
      "    - pyarrow\n",
      "    - shapely\n",
      "\n",
      "\n",
      "The following packages will be downloaded:\n",
      "\n",
      "    package                    |            build\n",
      "    ---------------------------|-----------------\n",
      "    abseil-cpp-20210324.2      |       h9c3ff4c_0        1010 KB  conda-forge\n",
      "    arrow-cpp-4.0.1            |py39h881cbb8_2_cpu        22.2 MB  conda-forge\n",
      "    aws-c-cal-0.5.11           |       h95a6274_0          37 KB  conda-forge\n",
      "    aws-c-common-0.6.2         |       h7f98852_0         168 KB  conda-forge\n",
      "    aws-c-event-stream-0.2.7   |      h3541f99_13          47 KB  conda-forge\n",
      "    aws-c-io-0.10.5            |       hfb6a706_0         121 KB  conda-forge\n",
      "    aws-checksums-0.1.11       |       ha31a3da_7          50 KB  conda-forge\n",
      "    aws-sdk-cpp-1.8.186        |       hb4091e7_3         4.6 MB  conda-forge\n",
      "    brotli-1.0.9               |       h9c3ff4c_4         389 KB  conda-forge\n",
      "    docutils-0.17.1            |   py39hf3d152e_0         761 KB  conda-forge\n",
      "    flit-3.2.0                 |     pyhd8ed1ab_0          41 KB  conda-forge\n",
      "    flit-core-3.2.0            |     pyhd8ed1ab_0          32 KB  conda-forge\n",
      "    geos-3.9.1                 |       h9c3ff4c_2         1.1 MB  conda-forge\n",
      "    gflags-2.2.2               |    he1b5a44_1004         114 KB  conda-forge\n",
      "    glog-0.5.0                 |       h48cff8f_0         104 KB  conda-forge\n",
      "    grpc-cpp-1.38.1            |       h36ce80c_0         3.6 MB  conda-forge\n",
      "    libblas-3.9.0              |       9_openblas          11 KB  conda-forge\n",
      "    libcblas-3.9.0             |       9_openblas          11 KB  conda-forge\n",
      "    libevent-2.1.10            |       hcdb4288_3         1.1 MB  conda-forge\n",
      "    libgfortran-ng-9.3.0       |      hff62375_19          22 KB  conda-forge\n",
      "    libgfortran5-9.3.0         |      hff62375_19         2.0 MB  conda-forge\n",
      "    liblapack-3.9.0            |       9_openblas          11 KB  conda-forge\n",
      "    libopenblas-0.3.15         |pthreads_h8fe5266_1         9.2 MB  conda-forge\n",
      "    libpq-13.3                 |       hd57d9b9_0         2.7 MB  conda-forge\n",
      "    libprotobuf-3.16.0         |       h780b84a_0         2.5 MB  conda-forge\n",
      "    libthrift-0.14.2           |       he6d91bd_1         4.5 MB  conda-forge\n",
      "    libutf8proc-2.6.1          |       h7f98852_0          95 KB  conda-forge\n",
      "    numpy-1.21.0               |   py39hdbf815f_0         6.2 MB  conda-forge\n",
      "    orc-1.6.8                  |       h58a87f1_0         740 KB  conda-forge\n",
      "    pandas-1.2.5               |   py39hde0f152_0        12.1 MB  conda-forge\n",
      "    parquet-cpp-1.5.1          |                2           3 KB  conda-forge\n",
      "    psycopg2-2.9.1             |   py39h3811e60_0         180 KB  conda-forge\n",
      "    psycopg2-binary-2.9.1      |     pyhd8ed1ab_0           7 KB  conda-forge\n",
      "    pyarrow-4.0.1              |py39h3ebc44c_2_cpu         2.7 MB  conda-forge\n",
      "    re2-2021.06.01             |       h9c3ff4c_0         218 KB  conda-forge\n",
      "    requests_download-0.1.2    |             py_1           5 KB  conda-forge\n",
      "    s2n-1.0.10                 |       h9b69904_0         442 KB  conda-forge\n",
      "    shapely-1.7.1              |   py39ha61afbd_5         442 KB  conda-forge\n",
      "    snappy-1.1.8               |       he1b5a44_3          32 KB  conda-forge\n",
      "    toml-0.10.2                |     pyhd8ed1ab_0          18 KB  conda-forge\n",
      "    ------------------------------------------------------------\n",
      "                                           Total:        79.2 MB\n",
      "\n",
      "The following NEW packages will be INSTALLED:\n",
      "\n",
      "  abseil-cpp         conda-forge/linux-64::abseil-cpp-20210324.2-h9c3ff4c_0\n",
      "  arrow-cpp          conda-forge/linux-64::arrow-cpp-4.0.1-py39h881cbb8_2_cpu\n",
      "  aws-c-cal          conda-forge/linux-64::aws-c-cal-0.5.11-h95a6274_0\n",
      "  aws-c-common       conda-forge/linux-64::aws-c-common-0.6.2-h7f98852_0\n",
      "  aws-c-event-stream conda-forge/linux-64::aws-c-event-stream-0.2.7-h3541f99_13\n",
      "  aws-c-io           conda-forge/linux-64::aws-c-io-0.10.5-hfb6a706_0\n",
      "  aws-checksums      conda-forge/linux-64::aws-checksums-0.1.11-ha31a3da_7\n",
      "  aws-sdk-cpp        conda-forge/linux-64::aws-sdk-cpp-1.8.186-hb4091e7_3\n",
      "  brotli             conda-forge/linux-64::brotli-1.0.9-h9c3ff4c_4\n",
      "  docutils           conda-forge/linux-64::docutils-0.17.1-py39hf3d152e_0\n",
      "  flit               conda-forge/noarch::flit-3.2.0-pyhd8ed1ab_0\n",
      "  flit-core          conda-forge/noarch::flit-core-3.2.0-pyhd8ed1ab_0\n",
      "  geos               conda-forge/linux-64::geos-3.9.1-h9c3ff4c_2\n",
      "  gflags             conda-forge/linux-64::gflags-2.2.2-he1b5a44_1004\n",
      "  glog               conda-forge/linux-64::glog-0.5.0-h48cff8f_0\n",
      "  grpc-cpp           conda-forge/linux-64::grpc-cpp-1.38.1-h36ce80c_0\n",
      "  libblas            conda-forge/linux-64::libblas-3.9.0-9_openblas\n",
      "  libcblas           conda-forge/linux-64::libcblas-3.9.0-9_openblas\n",
      "  libevent           conda-forge/linux-64::libevent-2.1.10-hcdb4288_3\n",
      "  libgfortran-ng     conda-forge/linux-64::libgfortran-ng-9.3.0-hff62375_19\n",
      "  libgfortran5       conda-forge/linux-64::libgfortran5-9.3.0-hff62375_19\n",
      "  liblapack          conda-forge/linux-64::liblapack-3.9.0-9_openblas\n",
      "  libopenblas        conda-forge/linux-64::libopenblas-0.3.15-pthreads_h8fe5266_1\n",
      "  libpq              conda-forge/linux-64::libpq-13.3-hd57d9b9_0\n",
      "  libprotobuf        conda-forge/linux-64::libprotobuf-3.16.0-h780b84a_0\n",
      "  libthrift          conda-forge/linux-64::libthrift-0.14.2-he6d91bd_1\n",
      "  libutf8proc        conda-forge/linux-64::libutf8proc-2.6.1-h7f98852_0\n",
      "  numpy              conda-forge/linux-64::numpy-1.21.0-py39hdbf815f_0\n",
      "  orc                conda-forge/linux-64::orc-1.6.8-h58a87f1_0\n",
      "  pandas             conda-forge/linux-64::pandas-1.2.5-py39hde0f152_0\n",
      "  parquet-cpp        conda-forge/noarch::parquet-cpp-1.5.1-2\n",
      "  psycopg2           conda-forge/linux-64::psycopg2-2.9.1-py39h3811e60_0\n",
      "  psycopg2-binary    conda-forge/noarch::psycopg2-binary-2.9.1-pyhd8ed1ab_0\n",
      "  pyarrow            conda-forge/linux-64::pyarrow-4.0.1-py39h3ebc44c_2_cpu\n",
      "  re2                conda-forge/linux-64::re2-2021.06.01-h9c3ff4c_0\n",
      "  requests_download  conda-forge/noarch::requests_download-0.1.2-py_1\n",
      "  s2n                conda-forge/linux-64::s2n-1.0.10-h9b69904_0\n",
      "  shapely            conda-forge/linux-64::shapely-1.7.1-py39ha61afbd_5\n",
      "  snappy             conda-forge/linux-64::snappy-1.1.8-he1b5a44_3\n",
      "  toml               conda-forge/noarch::toml-0.10.2-pyhd8ed1ab_0\n",
      "\n",
      "\n",
      "\n",
      "Downloading and Extracting Packages\n",
      "libgfortran-ng-9.3.0 | 22 KB     | ##################################### | 100% \n",
      "requests_download-0. | 5 KB      | ##################################### | 100% \n",
      "s2n-1.0.10           | 442 KB    | ##################################### | 100% \n",
      "parquet-cpp-1.5.1    | 3 KB      | ##################################### | 100% \n",
      "aws-checksums-0.1.11 | 50 KB     | ##################################### | 100% \n",
      "grpc-cpp-1.38.1      | 3.6 MB    | ##################################### | 100% \n",
      "libopenblas-0.3.15   | 9.2 MB    | ##################################### | 100% \n",
      "libblas-3.9.0        | 11 KB     | ##################################### | 100% \n",
      "libprotobuf-3.16.0   | 2.5 MB    | ##################################### | 100% \n",
      "aws-sdk-cpp-1.8.186  | 4.6 MB    | ##################################### | 100% \n",
      "brotli-1.0.9         | 389 KB    | ##################################### | 100% \n",
      "orc-1.6.8            | 740 KB    | ##################################### | 100% \n",
      "aws-c-io-0.10.5      | 121 KB    | ##################################### | 100% \n",
      "libevent-2.1.10      | 1.1 MB    | ##################################### | 100% \n",
      "shapely-1.7.1        | 442 KB    | ##################################### | 100% \n",
      "snappy-1.1.8         | 32 KB     | ##################################### | 100% \n",
      "libcblas-3.9.0       | 11 KB     | ##################################### | 100% \n",
      "aws-c-common-0.6.2   | 168 KB    | ##################################### | 100% \n",
      "glog-0.5.0           | 104 KB    | ##################################### | 100% \n",
      "gflags-2.2.2         | 114 KB    | ##################################### | 100% \n",
      "pyarrow-4.0.1        | 2.7 MB    | ##################################### | 100% \n",
      "libpq-13.3           | 2.7 MB    | ##################################### | 100% \n",
      "psycopg2-binary-2.9. | 7 KB      | ##################################### | 100% \n",
      "abseil-cpp-20210324. | 1010 KB   | ##################################### | 100% \n",
      "re2-2021.06.01       | 218 KB    | ##################################### | 100% \n",
      "pandas-1.2.5         | 12.1 MB   | ##################################### | 100% \n",
      "libgfortran5-9.3.0   | 2.0 MB    | ##################################### | 100% \n",
      "libthrift-0.14.2     | 4.5 MB    | ##################################### | 100% \n",
      "liblapack-3.9.0      | 11 KB     | ##################################### | 100% \n",
      "flit-3.2.0           | 41 KB     | ##################################### | 100% \n",
      "geos-3.9.1           | 1.1 MB    | ##################################### | 100% \n",
      "numpy-1.21.0         | 6.2 MB    | ##################################### | 100% \n",
      "aws-c-cal-0.5.11     | 37 KB     | ##################################### | 100% \n",
      "toml-0.10.2          | 18 KB     | ##################################### | 100% \n",
      "arrow-cpp-4.0.1      | 22.2 MB   | ##################################### | 100% \n",
      "libutf8proc-2.6.1    | 95 KB     | ##################################### | 100% \n",
      "aws-c-event-stream-0 | 47 KB     | ##################################### | 100% \n",
      "docutils-0.17.1      | 761 KB    | ##################################### | 100% \n",
      "flit-core-3.2.0      | 32 KB     | ##################################### | 100% \n",
      "psycopg2-2.9.1       | 180 KB    | ##################################### | 100% \n",
      "Preparing transaction: done\n",
      "Verifying transaction: done\n",
      "Executing transaction: done\n"
     ]
    }
   ],
   "source": [
    "!conda install -y -c conda-forge flit numpy pandas pyarrow psycopg2-binary shapely"
   ]
  },
  {
   "cell_type": "code",
   "execution_count": 4,
   "id": "fba91791-e88e-43b3-84a9-25b8fb44c1de",
   "metadata": {},
   "outputs": [
    {
     "name": "stdout",
     "output_type": "stream",
     "text": [
      "\u001b[?1l\u001b>Fetching list of valid trove classifiers                         \u001b[32mI-flit.validate\u001b[m\n",
      "Extras to install for deps 'all': {'.none'}                       \u001b[32mI-flit.install\u001b[m\n",
      "Installing requirements                                           \u001b[32mI-flit.install\u001b[m\n",
      "Requirement already satisfied: numpy in /opt/conda/lib/python3.9/site-packages (from -r /tmp/tmpoxp0oehdrequirements.txt (line 1)) (1.21.0)\n",
      "Requirement already satisfied: pandas in /opt/conda/lib/python3.9/site-packages (from -r /tmp/tmpoxp0oehdrequirements.txt (line 2)) (1.2.5)\n",
      "Requirement already satisfied: pyarrow in /opt/conda/lib/python3.9/site-packages (from -r /tmp/tmpoxp0oehdrequirements.txt (line 3)) (4.0.1)\n",
      "Requirement already satisfied: psycopg2-binary in /opt/conda/lib/python3.9/site-packages (from -r /tmp/tmpoxp0oehdrequirements.txt (line 4)) (2.9.1)\n",
      "Requirement already satisfied: shapely in /opt/conda/lib/python3.9/site-packages (from -r /tmp/tmpoxp0oehdrequirements.txt (line 5)) (1.7.1)\n",
      "Requirement already satisfied: python-dateutil>=2.7.3 in /opt/conda/lib/python3.9/site-packages (from pandas->-r /tmp/tmpoxp0oehdrequirements.txt (line 2)) (2.8.1)\n",
      "Requirement already satisfied: pytz>=2017.3 in /opt/conda/lib/python3.9/site-packages (from pandas->-r /tmp/tmpoxp0oehdrequirements.txt (line 2)) (2021.1)\n",
      "Requirement already satisfied: six>=1.5 in /opt/conda/lib/python3.9/site-packages (from python-dateutil>=2.7.3->pandas->-r /tmp/tmpoxp0oehdrequirements.txt (line 2)) (1.16.0)\n",
      "Requirement already satisfied: psycopg2==2.9.1 in /opt/conda/lib/python3.9/site-packages (from psycopg2-binary->-r /tmp/tmpoxp0oehdrequirements.txt (line 4)) (2.9.1)\n",
      "Symlinking dafnedset -> /opt/conda/lib/python3.9/site-packages/dafnedset  \u001b[32mI-flit.install\u001b[m\n",
      "Writing script to /opt/conda/bin/dafne_dataserver                 \u001b[32mI-flit.install\u001b[m\n",
      "Writing script to /opt/conda/bin/dafne_writeparquet               \u001b[32mI-flit.install\u001b[m\n"
     ]
    }
   ],
   "source": [
    "!cd /opt//dafnepy; flit install -s"
   ]
  },
  {
   "cell_type": "code",
   "execution_count": 1,
   "id": "713087da-344c-48e5-aca2-18742ebcbfa7",
   "metadata": {},
   "outputs": [],
   "source": [
    "import numpy as np\n",
    "from dafnedset import base_simple as bs"
   ]
  },
  {
   "cell_type": "code",
   "execution_count": 2,
   "id": "b8c2f26a-f677-4e7a-a458-81abd77b6ce4",
   "metadata": {},
   "outputs": [],
   "source": [
    "opts = bs.FunBufferOptions(batch_size=30,niter=2)\n",
    "buf = bs.FunBuffer(options=opts, providers=[[np.ones(13)*i for i in range(14)]])"
   ]
  },
  {
   "cell_type": "code",
   "execution_count": 3,
   "id": "19bd758f-56c3-432f-8951-1782f708df6b",
   "metadata": {},
   "outputs": [],
   "source": [
    "opts = bs.FunBufferOptions(batch_size=30,niter=2)\n",
    "buf2 = bs.FunBuffer(options=opts, providers=[[np.ones(13)*i for i in range(14)]])"
   ]
  },
  {
   "cell_type": "code",
   "execution_count": 4,
   "id": "1daea04e-e55d-4db3-a9d4-16ecbb729bbf",
   "metadata": {},
   "outputs": [
    {
     "data": {
      "text/plain": [
       "<dafnedset.base_simple.FunBuffer at 0x7faefba38760>"
      ]
     },
     "execution_count": 4,
     "metadata": {},
     "output_type": "execute_result"
    }
   ],
   "source": [
    "buf + buf2"
   ]
  },
  {
   "cell_type": "code",
   "execution_count": 5,
   "id": "a2b75b0d-dcea-4289-a950-d373882bfad4",
   "metadata": {},
   "outputs": [],
   "source": [
    "buf = buf + buf2"
   ]
  },
  {
   "cell_type": "code",
   "execution_count": null,
   "id": "4b2f7381-343a-40d0-8b9d-aa089e7285fa",
   "metadata": {},
   "outputs": [],
   "source": []
  },
  {
   "cell_type": "code",
   "execution_count": 6,
   "id": "21362574-7309-4409-844e-b9edacd9358a",
   "metadata": {},
   "outputs": [],
   "source": [
    "a = bs.fill_streams(buf)"
   ]
  },
  {
   "cell_type": "code",
   "execution_count": 7,
   "id": "e1d69573-1c55-458e-9ced-917c8324a7d7",
   "metadata": {},
   "outputs": [
    {
     "data": {
      "text/plain": [
       "[<method-wrapper '__next__' of list_iterator object at 0x7faefba38d30>,\n",
       " <method-wrapper '__next__' of list_iterator object at 0x7faefba38a90>]"
      ]
     },
     "execution_count": 7,
     "metadata": {},
     "output_type": "execute_result"
    }
   ],
   "source": [
    "a"
   ]
  },
  {
   "cell_type": "code",
   "execution_count": 8,
   "id": "b275b4f4-9c9a-4bb7-8ef8-49e6aa0c9068",
   "metadata": {},
   "outputs": [],
   "source": [
    "buf.buffer"
   ]
  },
  {
   "cell_type": "code",
   "execution_count": 9,
   "id": "a7de5862-58a6-4000-b07c-9b3d45ca077d",
   "metadata": {},
   "outputs": [
    {
     "data": {
      "text/plain": [
       "(None, [])"
      ]
     },
     "execution_count": 9,
     "metadata": {},
     "output_type": "execute_result"
    }
   ],
   "source": [
    "bs.advance(buf)"
   ]
  },
  {
   "cell_type": "code",
   "execution_count": 10,
   "id": "cbf43f73-df46-4c19-a041-16872048c8bb",
   "metadata": {},
   "outputs": [],
   "source": [
    "try:\n",
    "    buf.fill_buffer()\n",
    "except StopIteration:\n",
    "    test = True\n",
    "assert test is True"
   ]
  },
  {
   "cell_type": "code",
   "execution_count": 11,
   "id": "b07e6478-7ae8-4684-a3c7-25b69194f8ae",
   "metadata": {},
   "outputs": [],
   "source": [
    "buf.fill_streams()"
   ]
  },
  {
   "cell_type": "code",
   "execution_count": 12,
   "id": "0cb5a412-a3e4-4da2-9869-f9766904cf5a",
   "metadata": {},
   "outputs": [
    {
     "data": {
      "text/plain": [
       "[<method-wrapper '__next__' of list_iterator object at 0x7faefba38eb0>,\n",
       " <method-wrapper '__next__' of list_iterator object at 0x7faefba38e50>]"
      ]
     },
     "execution_count": 12,
     "metadata": {},
     "output_type": "execute_result"
    }
   ],
   "source": [
    "buf.streams"
   ]
  },
  {
   "cell_type": "code",
   "execution_count": 13,
   "id": "2991e834-1b8c-4c63-9742-04fa520d00f2",
   "metadata": {},
   "outputs": [],
   "source": [
    "buf.fill_buffer()"
   ]
  },
  {
   "cell_type": "code",
   "execution_count": 14,
   "id": "b5e29897-51da-4e65-9100-76d4bd0cc890",
   "metadata": {},
   "outputs": [
    {
     "data": {
      "text/plain": [
       "[array([0., 0., 0., 0., 0., 0., 0., 0., 0., 0., 0., 0., 0.]),\n",
       " array([0., 0., 0., 0., 0., 0., 0., 0., 0., 0., 0., 0., 0.])]"
      ]
     },
     "execution_count": 14,
     "metadata": {},
     "output_type": "execute_result"
    }
   ],
   "source": [
    "buf.buffer"
   ]
  },
  {
   "cell_type": "code",
   "execution_count": 15,
   "id": "cba8a523-5071-4bc3-8a56-a265abb74439",
   "metadata": {},
   "outputs": [
    {
     "data": {
      "text/plain": [
       "[1, 1]"
      ]
     },
     "execution_count": 15,
     "metadata": {},
     "output_type": "execute_result"
    }
   ],
   "source": [
    "buf.iteration"
   ]
  },
  {
   "cell_type": "code",
   "execution_count": 16,
   "id": "6eaf3d75-6c43-4d1a-87cf-ccb842597c9c",
   "metadata": {},
   "outputs": [],
   "source": [
    "bbb = bs.fill_streams(buf)"
   ]
  },
  {
   "cell_type": "code",
   "execution_count": 17,
   "id": "97863875-4802-42e0-8bba-a9221c9a6be8",
   "metadata": {},
   "outputs": [
    {
     "data": {
      "text/plain": [
       "[None, None]"
      ]
     },
     "execution_count": 17,
     "metadata": {},
     "output_type": "execute_result"
    }
   ],
   "source": [
    "bbb"
   ]
  },
  {
   "cell_type": "code",
   "execution_count": 18,
   "id": "19583570-0b79-4c48-9c5c-bd69999cbd7f",
   "metadata": {},
   "outputs": [
    {
     "data": {
      "text/plain": [
       "[<method-wrapper '__next__' of list_iterator object at 0x7faefba38eb0>,\n",
       " <method-wrapper '__next__' of list_iterator object at 0x7faefba38e50>]"
      ]
     },
     "execution_count": 18,
     "metadata": {},
     "output_type": "execute_result"
    }
   ],
   "source": [
    "buf.streams"
   ]
  },
  {
   "cell_type": "code",
   "execution_count": 19,
   "id": "b3731bac-4b2a-448f-8f30-80d486fb6129",
   "metadata": {},
   "outputs": [
    {
     "data": {
      "text/plain": [
       "([<method-wrapper '__next__' of list_iterator object at 0x7faefba38eb0>,\n",
       "  <method-wrapper '__next__' of list_iterator object at 0x7faefba38e50>],\n",
       " [0, 0])"
      ]
     },
     "execution_count": 19,
     "metadata": {},
     "output_type": "execute_result"
    }
   ],
   "source": [
    "bs.combine_streams(buf.streams,bbb)"
   ]
  },
  {
   "cell_type": "code",
   "execution_count": 20,
   "id": "ebc6c147-35a7-4e38-9f7b-241a47118d4c",
   "metadata": {},
   "outputs": [],
   "source": [
    "tot=0"
   ]
  },
  {
   "cell_type": "code",
   "execution_count": 21,
   "id": "02282434-8e23-4666-a817-846dae238b1c",
   "metadata": {},
   "outputs": [
    {
     "name": "stdout",
     "output_type": "stream",
     "text": [
      "[0. 0. 0. 0. 0. 0. 0. 0. 0. 0. 0. 0. 0. 0. 0. 0. 0. 0. 0. 0. 0. 0. 0. 0.\n",
      " 0. 0. 1. 1. 1. 1.]\n",
      "30\n",
      "[array([1., 1., 1., 1., 1., 1., 1., 1., 1.]), array([1., 1., 1., 1., 1., 1., 1., 1., 1., 1., 1., 1., 1.])]\n"
     ]
    }
   ],
   "source": [
    "sasa = next(buf)\n",
    "print(sasa)\n",
    "print(len(sasa))\n",
    "print(buf.buffer)\n",
    "tot = tot+len(sasa)"
   ]
  },
  {
   "cell_type": "code",
   "execution_count": 22,
   "id": "160275e2-6636-4418-8530-e9057a88f720",
   "metadata": {},
   "outputs": [
    {
     "data": {
      "text/plain": [
       "0.5769230769230769"
      ]
     },
     "execution_count": 22,
     "metadata": {},
     "output_type": "execute_result"
    }
   ],
   "source": [
    "tot/13/2/2"
   ]
  },
  {
   "cell_type": "code",
   "execution_count": 23,
   "id": "aa770826-c6e3-41d7-92e3-67d661a20ba8",
   "metadata": {},
   "outputs": [
    {
     "data": {
      "text/plain": [
       "[array([1., 1., 1., 1., 1., 1., 1., 1., 1.]),\n",
       " array([1., 1., 1., 1., 1., 1., 1., 1., 1., 1., 1., 1., 1.])]"
      ]
     },
     "execution_count": 23,
     "metadata": {},
     "output_type": "execute_result"
    }
   ],
   "source": [
    "buf.buffer"
   ]
  },
  {
   "cell_type": "code",
   "execution_count": 24,
   "id": "c1a77f01-6bc3-44eb-b253-c0bee65e53d7",
   "metadata": {},
   "outputs": [
    {
     "data": {
      "text/plain": [
       "[array([0., 0., 0., 0., 0., 0., 0., 0., 0., 0., 0., 0., 0., 0., 0., 0., 0.,\n",
       "        0., 0., 0., 0., 0., 0., 0., 0., 0., 1., 1., 1., 1.])]"
      ]
     },
     "execution_count": 24,
     "metadata": {},
     "output_type": "execute_result"
    }
   ],
   "source": [
    "buf.cache"
   ]
  },
  {
   "cell_type": "code",
   "execution_count": 25,
   "id": "ab381e8d-0155-4a1b-8d03-738a78446602",
   "metadata": {},
   "outputs": [],
   "source": [
    "from dafnedset import datasets as ds"
   ]
  },
  {
   "cell_type": "code",
   "execution_count": 29,
   "id": "a7f1a827-5214-4fcc-bf32-1652eb8514a2",
   "metadata": {},
   "outputs": [],
   "source": [
    "from dafnedset import fun_ops as fop"
   ]
  },
  {
   "cell_type": "code",
   "execution_count": 26,
   "id": "51b8df1a-609e-4175-ada7-4b5a46ce4c20",
   "metadata": {},
   "outputs": [],
   "source": [
    "from importlib import reload"
   ]
  },
  {
   "cell_type": "code",
   "execution_count": 107,
   "id": "d16d51d8-68a1-4590-9856-aadcc427a6f8",
   "metadata": {},
   "outputs": [],
   "source": [
    "fop = reload(fop)"
   ]
  },
  {
   "cell_type": "code",
   "execution_count": 31,
   "id": "960f3696-8e1a-4aa0-bf79-56105b2aeb22",
   "metadata": {},
   "outputs": [
    {
     "data": {
      "text/plain": [
       "{'size': 'SELECT max(iid) FROM indice_c;',\n",
       " 'query': \"\\n                      SELECT a.estacion, a.sid, s.time, a.tiempo, a.norte, a.este, a.altura\\n                      FROM\\n                        (SELECT max(estacion) estacion, max(sid) sid,\\n                                array_agg(to_date(i.yymmmdd,'YYMONDD')\\n                                    ORDER BY to_date(i.yymmmdd,'YYMONDD') ) tiempo,\\n                                array_agg(north::real ORDER BY to_date(i.yymmmdd,'YYMONDD') ) norte,\\n                                array_agg(east::real ORDER BY to_date(i.yymmmdd,'YYMONDD') ) este,\\n                                array_agg(up::real ORDER BY to_date(i.yymmmdd,'YYMONDD') ) altura\\n                         FROM indice_c i\\n                         LEFT JOIN http_tseries t USING (estacion, yymmmdd)\\n                         GROUP BY iid HAVING iid <@ int8range(%s,%s) ) AS a\\n                      JOIN usgs_sismos s ON a.sid = s.ogc_fid;\\n                      \",\n",
       " 'columns': 'est\\tiid\\tep\\tt\\tnorte\\teste\\taltura'}"
      ]
     },
     "execution_count": 31,
     "metadata": {},
     "output_type": "execute_result"
    }
   ],
   "source": [
    "ds.CASES"
   ]
  },
  {
   "cell_type": "code",
   "execution_count": 32,
   "id": "24c283c9-3bec-49e4-9d73-b4d66a811e88",
   "metadata": {},
   "outputs": [],
   "source": [
    "cfb = fop.read_db(ds.CASES,batch_size=123)"
   ]
  },
  {
   "cell_type": "code",
   "execution_count": 33,
   "id": "22892476-f733-40a2-bc81-8b5a8b5d7c84",
   "metadata": {},
   "outputs": [
    {
     "name": "stdout",
     "output_type": "stream",
     "text": [
      "123...123...123...123...123...123...123...123...123...123...123...123...123...123...123...123...123...123...123...123...123...123...123...123...123...123...123...123...123...123...123...123...123...123...123...123...123...123...123...123...123...123...123...123...123...123...123...123...123...123...123...123...123...123...123...123...123...123...123...123...123...123...123...123...123...123...123...123...123...123...123...123...123...123...123...123...123...123...123...36..."
     ]
    }
   ],
   "source": [
    "for i in cfb:\n",
    "    batch = i\n",
    "    print(f'{len(batch)}',end='...')"
   ]
  },
  {
   "cell_type": "code",
   "execution_count": 34,
   "id": "5be2c0ae-6972-4e1f-97d1-6313aa43d987",
   "metadata": {},
   "outputs": [],
   "source": [
    "fop.write_parquet(fop.read_db(ds.CASES),'casos.pq')"
   ]
  },
  {
   "cell_type": "code",
   "execution_count": 35,
   "id": "ba464143-fdbe-4cb9-a3f0-7e1b2ce5079b",
   "metadata": {},
   "outputs": [
    {
     "name": "stdout",
     "output_type": "stream",
     "text": [
      "100, accum 100...100, accum 200...100, accum 300...100, accum 400...100, accum 500...100, accum 600...100, accum 700...100, accum 800...100, accum 900...100, accum 1000...100, accum 1100...100, accum 1200...100, accum 1300...100, accum 1400...100, accum 1500...100, accum 1600...100, accum 1700...100, accum 1800...100, accum 1900...100, accum 2000...100, accum 2100...100, accum 2200...100, accum 2300...100, accum 2400...100, accum 2500...100, accum 2600...100, accum 2700...100, accum 2800...100, accum 2900...100, accum 3000...100, accum 3100...100, accum 3200...100, accum 3300...100, accum 3400...100, accum 3500...100, accum 3600...100, accum 3700...100, accum 3800...100, accum 3900...100, accum 4000...100, accum 4100...100, accum 4200...100, accum 4300...100, accum 4400...100, accum 4500...100, accum 4600...100, accum 4700...100, accum 4800...100, accum 4900...100, accum 5000...100, accum 5100...100, accum 5200...100, accum 5300...100, accum 5400...100, accum 5500...100, accum 5600...100, accum 5700...100, accum 5800...100, accum 5900...100, accum 6000...100, accum 6100...100, accum 6200...100, accum 6300...100, accum 6400...100, accum 6500...100, accum 6600...100, accum 6700...100, accum 6800...100, accum 6900...100, accum 7000...100, accum 7100...100, accum 7200...100, accum 7300...100, accum 7400...100, accum 7500...100, accum 7600...100, accum 7700...100, accum 7800...100, accum 7900...100, accum 8000...100, accum 8100...100, accum 8200...100, accum 8300...100, accum 8400...100, accum 8500...100, accum 8600...100, accum 8700...100, accum 8800...100, accum 8900...100, accum 9000...100, accum 9100...100, accum 9200...100, accum 9300...100, accum 9400...100, accum 9500...100, accum 9600...100, accum 9700...53, accum 9753..."
     ]
    }
   ],
   "source": [
    "l=0\n",
    "for i in fop.read_parquet('casos.pq'):\n",
    "    batch = i\n",
    "    l += len(batch)\n",
    "    print(f'{len(batch)}, accum {l}',end='...')"
   ]
  },
  {
   "cell_type": "code",
   "execution_count": 36,
   "id": "0d37e6ed-409d-4e42-a5b4-8aba839782b0",
   "metadata": {},
   "outputs": [],
   "source": [
    "from dafnedset import fun_transformations as ftr"
   ]
  },
  {
   "cell_type": "code",
   "execution_count": 37,
   "id": "d3807434-f248-4e88-84cc-f08970dc7717",
   "metadata": {},
   "outputs": [],
   "source": [
    "opts = bs.FunBufferOptions(batch_size=30,niter=2)\n",
    "cfb = fop.read_db(ds.CASES,batch_size=123)\n",
    "provider = map(ftr.label_batch([1.,0.]),cfb)\n",
    "\n",
    "buf = bs.FunBuffer(options=opts, providers=[provider])"
   ]
  },
  {
   "cell_type": "code",
   "execution_count": 38,
   "id": "5bb45ff7-7490-4222-a809-6d9d1697b958",
   "metadata": {},
   "outputs": [
    {
     "name": "stdout",
     "output_type": "stream",
     "text": [
      "30...30...30...30...30...30...30...30...30...30...30...30...30...30...30...30...30...30...30...30...30...30...30...30...30...30...30...30...30...30...30...30...30...30...30...30...30...30...30...30...30...30...30...30...30...30...30...30...30...30...30...30...30...30...30...30...30...30...30...30...30...30...30...30...30...30...30...30...30...30...30...30...30...30...30...30...30...30...30...30...30...30...30...30...30...30...30...30...30...30...30...30...30...30...30...30...30...30...30...30...30...30...30...30...30...30...30...30...30...30...30...30...30...30...30...30...30...30...30...30...30...30...30...30...30...30...30...30...30...30...30...30...30...30...30...30...30...30...30...30...30...30...30...30...30...30...30...30...30...30...30...30...30...30...30...30...30...30...30...30...30...30...30...30...30...30...30...30...30...30...30...30...30...30...30...30...30...30...30...30...30...30...30...30...30...30...30...30...30...30...30...30...30...30...30...30...30...30...30...30...30...30...30...30...30...30...30...30...30...30...30...30...30...30...30...30...30...30...30...30...30...30...30...30...30...30...30...30...30...30...30...30...30...30...30...30...30...30...30...30...30...30...30...30...30...30...30...30...30...30...30...30...30...30...30...30...30...30...30...30...30...30...30...30...30...30...30...30...30...30...30...30...30...30...30...30...30...30...30...30...30...30...30...30...30...30...30...30...30...30...30...30...30...30...30...30...30...30...30...30...30...30...30...30...30...30...30...30...30...30...30...30...30...30...30...30...30...30...30...30...30...30...30...30...30...3..."
     ]
    }
   ],
   "source": [
    "for i in buf:\n",
    "    batch = i\n",
    "    print(f'{len(batch)}',end='...')"
   ]
  },
  {
   "cell_type": "code",
   "execution_count": 39,
   "id": "90c62c01-2b0a-4bd2-be22-13a2c6260d09",
   "metadata": {},
   "outputs": [],
   "source": [
    "opts = bs.FunBufferOptions(batch_size=30,niter=2)\n",
    "cfb = fop.read_db(ds.CASES,batch_size=123)\n",
    "label_tr = ftr.label_batch([1.,0.])\n",
    "\n",
    "buf = cfb.map(label_tr)"
   ]
  },
  {
   "cell_type": "code",
   "execution_count": 40,
   "id": "3dd2425f-65dc-49a0-885a-61818487a084",
   "metadata": {},
   "outputs": [
    {
     "name": "stdout",
     "output_type": "stream",
     "text": [
      "123...123...123...123...123...123...123...123...123...123...123...123...123...123...123...123...123...123...123...123...123...123...123...123...123...123...123...123...123...123...123...123...123...123...123...123...123...123...123...123...123...123...123...123...123...123...123...123...123...123...123...123...123...123...123...123...123...123...123...123...123...123...123...123...123...123...123...123...123...123...123...123...123...123...123...123...123...123...123...36..."
     ]
    }
   ],
   "source": [
    "for i in buf:\n",
    "    batch = i\n",
    "    print(f'{len(batch)}',end='...')"
   ]
  },
  {
   "cell_type": "code",
   "execution_count": 44,
   "id": "6dc4fba9-479c-48e2-8be4-be63bdfd8ac3",
   "metadata": {},
   "outputs": [
    {
     "data": {
      "text/plain": [
       "36"
      ]
     },
     "execution_count": 44,
     "metadata": {},
     "output_type": "execute_result"
    }
   ],
   "source": [
    "len(batch.column('etiqueta').tolist())"
   ]
  },
  {
   "cell_type": "code",
   "execution_count": 80,
   "id": "d6f128ba-a0e2-4a08-a52c-e3aa19db9be1",
   "metadata": {},
   "outputs": [],
   "source": [
    "from dafnedset import split_simple as fss"
   ]
  },
  {
   "cell_type": "code",
   "execution_count": 91,
   "id": "bff5e960-19b8-4ee5-9999-74d97b9e9d3b",
   "metadata": {},
   "outputs": [],
   "source": [
    "fss = reload(fss)"
   ]
  },
  {
   "cell_type": "code",
   "execution_count": 92,
   "id": "cdb269e2-8268-4d17-a98a-31f544d72a2e",
   "metadata": {},
   "outputs": [],
   "source": [
    "cfb = fop.read_db(ds.CASES,batch_size=123)\n",
    "spliter = fss.FunSplitter(cfb,[1.,2.,1.])"
   ]
  },
  {
   "cell_type": "code",
   "execution_count": 93,
   "id": "7522742d-5a9b-4fc3-a088-ab3382cdf315",
   "metadata": {},
   "outputs": [
    {
     "name": "stdout",
     "output_type": "stream",
     "text": [
      "3->[31, 62, 30]->123...3->[31, 62, 30]->123...3->[31, 62, 30]->123...3->[31, 62, 30]->123...3->[31, 62, 30]->123...3->[31, 62, 30]->123...3->[31, 62, 30]->123...3->[31, 62, 30]->123...3->[31, 62, 30]->123...3->[31, 62, 30]->123...3->[31, 62, 30]->123...3->[31, 62, 30]->123...3->[31, 62, 30]->123...3->[31, 62, 30]->123...3->[31, 62, 30]->123...3->[31, 62, 30]->123...3->[31, 62, 30]->123...3->[31, 62, 30]->123...3->[31, 62, 30]->123...3->[31, 62, 30]->123...3->[31, 62, 30]->123...3->[31, 62, 30]->123...3->[31, 62, 30]->123...3->[31, 62, 30]->123...3->[31, 62, 30]->123...3->[31, 62, 30]->123...3->[31, 62, 30]->123...3->[31, 62, 30]->123...3->[31, 62, 30]->123...3->[31, 62, 30]->123...3->[31, 62, 30]->123...3->[31, 62, 30]->123...3->[31, 62, 30]->123...3->[31, 62, 30]->123...3->[31, 62, 30]->123...3->[31, 62, 30]->123...3->[31, 62, 30]->123...3->[31, 62, 30]->123...3->[31, 62, 30]->123...3->[31, 62, 30]->123...3->[31, 62, 30]->123...3->[31, 62, 30]->123...3->[31, 62, 30]->123...3->[31, 62, 30]->123...3->[31, 62, 30]->123...3->[31, 62, 30]->123...3->[31, 62, 30]->123...3->[31, 62, 30]->123...3->[31, 62, 30]->123...3->[31, 62, 30]->123...3->[31, 62, 30]->123...3->[31, 62, 30]->123...3->[31, 62, 30]->123...3->[31, 62, 30]->123...3->[31, 62, 30]->123...3->[31, 62, 30]->123...3->[31, 62, 30]->123...3->[31, 62, 30]->123...3->[31, 62, 30]->123...3->[31, 62, 30]->123...3->[31, 62, 30]->123...3->[31, 62, 30]->123...3->[31, 62, 30]->123...3->[31, 62, 30]->123...3->[31, 62, 30]->123...3->[31, 62, 30]->123...3->[31, 62, 30]->123...3->[31, 62, 30]->123...3->[31, 62, 30]->123...3->[31, 62, 30]->123...3->[31, 62, 30]->123...3->[31, 62, 30]->123...3->[31, 62, 30]->123...3->[31, 62, 30]->123...3->[31, 62, 30]->123...3->[31, 62, 30]->123...3->[31, 62, 30]->123...3->[31, 62, 30]->123...3->[31, 62, 30]->123...3->[9, 18, 9]->36..."
     ]
    }
   ],
   "source": [
    "for i in spliter:\n",
    "    print(len(i),[len(j) for j in i],sum([len(j) for j in i]),sep='->',end='...')"
   ]
  },
  {
   "cell_type": "code",
   "execution_count": 94,
   "id": "bd150b52-e266-452d-843e-54999145296d",
   "metadata": {},
   "outputs": [],
   "source": [
    "pt1 = fss.FunPart(spliter,1)"
   ]
  },
  {
   "cell_type": "code",
   "execution_count": 95,
   "id": "16aadb1e-3ad0-401e-b35a-1a6d475130e0",
   "metadata": {},
   "outputs": [
    {
     "name": "stdout",
     "output_type": "stream",
     "text": [
      "62...62...62...62...62...62...62...62...62...62...62...62...62...62...62...62...62...62...62...62...62...62...62...62...62...62...62...62...62...62...62...62...62...62...62...62...62...62...62...62...62...62...62...62...62...62...62...62...62...62...62...62...62...62...62...62...62...62...62...62...62...62...62...62...62...62...62...62...62...62...62...62...62...62...62...62...62...62...62...18..."
     ]
    }
   ],
   "source": [
    "for i in pt1:\n",
    "    print(len(i),end='...')"
   ]
  },
  {
   "cell_type": "code",
   "execution_count": 96,
   "id": "c682cdd0-e550-421c-abc8-506757153b17",
   "metadata": {},
   "outputs": [],
   "source": [
    "cfb = fop.read_db(ds.CASES,batch_size=123)\n",
    "spliter = fss.FunSplitter(cfb,[1.,2.,1.])"
   ]
  },
  {
   "cell_type": "code",
   "execution_count": 97,
   "id": "93567491-9a63-401b-b9c0-d338b19cc3f7",
   "metadata": {},
   "outputs": [
    {
     "name": "stdout",
     "output_type": "stream",
     "text": [
      "62...62...62...62...62...62...62...62...62...62...62...62...62...62...62...62...62...62...62...62...62...62...62...62...62...62...62...62...62...62...62...62...62...62...62...62...62...62...62...62...62...62...62...62...62...62...62...62...62...62...62...62...62...62...62...62...62...62...62...62...62...62...62...62...62...62...62...62...62...62...62...62...62...62...62...62...62...62...62...18..."
     ]
    }
   ],
   "source": [
    "pt1 = fss.FunPart(spliter,1)\n",
    "\n",
    "for i in pt1:\n",
    "    print(len(i),end='...')"
   ]
  },
  {
   "cell_type": "code",
   "execution_count": 99,
   "id": "72bac7f6-f1d8-447c-86fb-5c3a8d715141",
   "metadata": {},
   "outputs": [
    {
     "data": {
      "text/plain": [
       "80"
      ]
     },
     "execution_count": 99,
     "metadata": {},
     "output_type": "execute_result"
    }
   ],
   "source": [
    "len(spliter.cache[0])"
   ]
  },
  {
   "cell_type": "code",
   "execution_count": 100,
   "id": "4c4d8c69-7a1d-475f-83e0-8f4e4c28abec",
   "metadata": {},
   "outputs": [],
   "source": [
    "cfb = fop.read_db(ds.CASES,batch_size=123)\n",
    "spliter = fss.FunSplitter(cfb,[1.,2.,1.])"
   ]
  },
  {
   "cell_type": "code",
   "execution_count": 101,
   "id": "766afef5-1234-412d-b08a-8a6101ba5132",
   "metadata": {},
   "outputs": [
    {
     "name": "stdout",
     "output_type": "stream",
     "text": [
      "123...123...123...123...123...123...123...123...123...123...123...123...123...123...123...123...123...123...123...123...123...123...123...123...123...123...123...123...123...123...123...123...123...123...123...123...123...123...123...119..."
     ]
    }
   ],
   "source": [
    "for i in spliter[1]:\n",
    "    print(len(i),end='...')"
   ]
  },
  {
   "cell_type": "code",
   "execution_count": 1,
   "id": "a5fe42f0-09cf-46b4-8853-6391e6fb256e",
   "metadata": {},
   "outputs": [],
   "source": [
    "from dafnedset.presets_simple.pos10 import data"
   ]
  },
  {
   "cell_type": "code",
   "execution_count": 2,
   "id": "1a84bbbf-5f7a-4a98-93d4-1fe8e927b7d0",
   "metadata": {},
   "outputs": [
    {
     "name": "stdout",
     "output_type": "stream",
     "text": [
      "100...100...100...100...100...100...100...100...100...100...100...100...100...100...100...100...100...100...100...100...100...100...100...100...100...100...100...100...100...100...100...100...100...100...100...100...100...100...100...100...100...100...100...100...100...100...100...100...100...100...100...100...100...100...100...100...100...100...100...100...100...100...100...100...100...100...100...100...28..."
     ]
    }
   ],
   "source": [
    "for i in data:\n",
    "    print(len(i),end='...')"
   ]
  },
  {
   "cell_type": "code",
   "execution_count": 5,
   "id": "ab961faa-ea2f-475c-989d-ddb8c1e06ed7",
   "metadata": {},
   "outputs": [],
   "source": [
    "from dafnedset import base_simple as bs"
   ]
  },
  {
   "cell_type": "code",
   "execution_count": 11,
   "id": "c8a8b95e-4da6-4a2d-a039-d313085116d6",
   "metadata": {},
   "outputs": [],
   "source": [
    "buf = bs.FunBuffer(options=data.options,providers=data.providers)"
   ]
  },
  {
   "cell_type": "code",
   "execution_count": 9,
   "id": "4f7113bc-7abb-486f-9666-818541c33170",
   "metadata": {},
   "outputs": [
    {
     "data": {
      "text/plain": [
       "<dafnedset.base_simple.FunBuffer at 0x7ff9a26aae50>"
      ]
     },
     "execution_count": 9,
     "metadata": {},
     "output_type": "execute_result"
    }
   ],
   "source": [
    "buf"
   ]
  },
  {
   "cell_type": "code",
   "execution_count": 12,
   "id": "b602c08a-b7fc-4061-af5a-3b87d5650236",
   "metadata": {},
   "outputs": [
    {
     "name": "stdout",
     "output_type": "stream",
     "text": [
      "100...100...100...100...100...100...100...100...100...100...100...100...100...100...100...100...100...100...100...100...100...100...100...100...100...100...100...100...100...100...100...100...100...100...100...100...100...100...100...100...100...100...100...100...100...100...100...100...100...100...100...100...100...100...100...100...100...100...100...100...100...100...100...100...100...100...100...100...28..."
     ]
    }
   ],
   "source": [
    "#OBS: Los splitters se resetean solos\n",
    "for i in buf:\n",
    "    print(len(i),end='...')"
   ]
  }
 ],
 "metadata": {
  "kernelspec": {
   "display_name": "Python 3",
   "language": "python",
   "name": "python3"
  },
  "language_info": {
   "codemirror_mode": {
    "name": "ipython",
    "version": 3
   },
   "file_extension": ".py",
   "mimetype": "text/x-python",
   "name": "python",
   "nbconvert_exporter": "python",
   "pygments_lexer": "ipython3",
   "version": "3.9.5"
  }
 },
 "nbformat": 4,
 "nbformat_minor": 5
}
