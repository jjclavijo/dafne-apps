{
 "cells": [
  {
   "cell_type": "code",
   "execution_count": null,
   "id": "713087da-344c-48e5-aca2-18742ebcbfa7",
   "metadata": {},
   "outputs": [],
   "source": [
    "import numpy as np\n",
    "from dafnedset import base_simple as bs"
   ]
  },
  {
   "cell_type": "code",
   "execution_count": null,
   "id": "b8c2f26a-f677-4e7a-a458-81abd77b6ce4",
   "metadata": {},
   "outputs": [],
   "source": [
    "opts = bs.FunBufferOptions(batch_size=30,niter=2)\n",
    "buf = bs.FunBuffer(options=opts, providers=[[np.ones(13)*i for i in range(14)]])"
   ]
  },
  {
   "cell_type": "code",
   "execution_count": null,
   "id": "19bd758f-56c3-432f-8951-1782f708df6b",
   "metadata": {},
   "outputs": [],
   "source": [
    "opts = bs.FunBufferOptions(batch_size=30,niter=2)\n",
    "buf2 = bs.FunBuffer(options=opts, providers=[[np.ones(13)*i for i in range(14)]])"
   ]
  },
  {
   "cell_type": "code",
   "execution_count": null,
   "id": "1daea04e-e55d-4db3-a9d4-16ecbb729bbf",
   "metadata": {},
   "outputs": [],
   "source": [
    "buf + buf2"
   ]
  },
  {
   "cell_type": "code",
   "execution_count": null,
   "id": "a2b75b0d-dcea-4289-a950-d373882bfad4",
   "metadata": {},
   "outputs": [],
   "source": [
    "buf = buf + buf2"
   ]
  },
  {
   "cell_type": "code",
   "execution_count": null,
   "id": "4b2f7381-343a-40d0-8b9d-aa089e7285fa",
   "metadata": {},
   "outputs": [],
   "source": []
  },
  {
   "cell_type": "code",
   "execution_count": null,
   "id": "21362574-7309-4409-844e-b9edacd9358a",
   "metadata": {},
   "outputs": [],
   "source": [
    "a = bs.fill_streams(buf)"
   ]
  },
  {
   "cell_type": "code",
   "execution_count": null,
   "id": "e1d69573-1c55-458e-9ced-917c8324a7d7",
   "metadata": {},
   "outputs": [],
   "source": [
    "a"
   ]
  },
  {
   "cell_type": "code",
   "execution_count": null,
   "id": "b275b4f4-9c9a-4bb7-8ef8-49e6aa0c9068",
   "metadata": {},
   "outputs": [],
   "source": [
    "buf.buffer"
   ]
  },
  {
   "cell_type": "code",
   "execution_count": null,
   "id": "a7de5862-58a6-4000-b07c-9b3d45ca077d",
   "metadata": {},
   "outputs": [],
   "source": [
    "bs.advance(buf)"
   ]
  },
  {
   "cell_type": "code",
   "execution_count": null,
   "id": "cbf43f73-df46-4c19-a041-16872048c8bb",
   "metadata": {},
   "outputs": [],
   "source": [
    "try:\n",
    "    buf.fill_buffer()\n",
    "except StopIteration:\n",
    "    test = True\n",
    "assert test is True"
   ]
  },
  {
   "cell_type": "code",
   "execution_count": null,
   "id": "b07e6478-7ae8-4684-a3c7-25b69194f8ae",
   "metadata": {},
   "outputs": [],
   "source": [
    "buf.fill_streams()"
   ]
  },
  {
   "cell_type": "code",
   "execution_count": null,
   "id": "0cb5a412-a3e4-4da2-9869-f9766904cf5a",
   "metadata": {},
   "outputs": [],
   "source": [
    "buf.streams"
   ]
  },
  {
   "cell_type": "code",
   "execution_count": null,
   "id": "2991e834-1b8c-4c63-9742-04fa520d00f2",
   "metadata": {},
   "outputs": [],
   "source": [
    "buf.fill_buffer()"
   ]
  },
  {
   "cell_type": "code",
   "execution_count": null,
   "id": "b5e29897-51da-4e65-9100-76d4bd0cc890",
   "metadata": {},
   "outputs": [],
   "source": [
    "buf.buffer"
   ]
  },
  {
   "cell_type": "code",
   "execution_count": null,
   "id": "cba8a523-5071-4bc3-8a56-a265abb74439",
   "metadata": {},
   "outputs": [],
   "source": [
    "buf.iteration"
   ]
  },
  {
   "cell_type": "code",
   "execution_count": null,
   "id": "6eaf3d75-6c43-4d1a-87cf-ccb842597c9c",
   "metadata": {},
   "outputs": [],
   "source": [
    "bbb = bs.fill_streams(buf)"
   ]
  },
  {
   "cell_type": "code",
   "execution_count": null,
   "id": "97863875-4802-42e0-8bba-a9221c9a6be8",
   "metadata": {},
   "outputs": [],
   "source": [
    "bbb"
   ]
  },
  {
   "cell_type": "code",
   "execution_count": null,
   "id": "19583570-0b79-4c48-9c5c-bd69999cbd7f",
   "metadata": {},
   "outputs": [],
   "source": [
    "buf.streams"
   ]
  },
  {
   "cell_type": "code",
   "execution_count": null,
   "id": "b3731bac-4b2a-448f-8f30-80d486fb6129",
   "metadata": {},
   "outputs": [],
   "source": [
    "bs.combine_streams(buf.streams,bbb)"
   ]
  },
  {
   "cell_type": "code",
   "execution_count": null,
   "id": "ebc6c147-35a7-4e38-9f7b-241a47118d4c",
   "metadata": {},
   "outputs": [],
   "source": [
    "tot=0"
   ]
  },
  {
   "cell_type": "code",
   "execution_count": null,
   "id": "02282434-8e23-4666-a817-846dae238b1c",
   "metadata": {},
   "outputs": [],
   "source": [
    "sasa = next(buf)\n",
    "print(sasa)\n",
    "print(len(sasa))\n",
    "print(buf.buffer)\n",
    "tot = tot+len(sasa)"
   ]
  },
  {
   "cell_type": "code",
   "execution_count": null,
   "id": "160275e2-6636-4418-8530-e9057a88f720",
   "metadata": {},
   "outputs": [],
   "source": [
    "tot/13/2/2"
   ]
  },
  {
   "cell_type": "code",
   "execution_count": null,
   "id": "aa770826-c6e3-41d7-92e3-67d661a20ba8",
   "metadata": {},
   "outputs": [],
   "source": [
    "buf.buffer"
   ]
  },
  {
   "cell_type": "code",
   "execution_count": null,
   "id": "e70de9ff-ffb3-413e-9544-c21e0204c0d7",
   "metadata": {},
   "outputs": [],
   "source": [
    "bs.join_batches(*buf.buffer)"
   ]
  },
  {
   "cell_type": "code",
   "execution_count": null,
   "id": "c1a77f01-6bc3-44eb-b253-c0bee65e53d7",
   "metadata": {},
   "outputs": [],
   "source": [
    "buf.cache"
   ]
  },
  {
   "cell_type": "code",
   "execution_count": null,
   "id": "08c56421-12f3-40c1-9f48-48cd5c3cab90",
   "metadata": {},
   "outputs": [],
   "source": []
  },
  {
   "cell_type": "code",
   "execution_count": null,
   "id": "26f672af-d319-4299-9ede-30f3b9c88a74",
   "metadata": {},
   "outputs": [],
   "source": []
  }
 ],
 "metadata": {
  "language_info": {
   "name": "python",
   "pygments_lexer": "ipython3"
  }
 },
 "nbformat": 4,
 "nbformat_minor": 5
}
