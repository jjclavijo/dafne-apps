{
 "cells": [
  {
   "cell_type": "code",
   "execution_count": 1,
   "id": "d991d3e3-fa06-4434-819e-6c70d340598e",
   "metadata": {},
   "outputs": [],
   "source": [
    "import numpy as np"
   ]
  },
  {
   "cell_type": "code",
   "execution_count": 2,
   "id": "713087da-344c-48e5-aca2-18742ebcbfa7",
   "metadata": {},
   "outputs": [],
   "source": [
    "import numpy as np\n",
    "from dafnedset import base_simple as bs"
   ]
  },
  {
   "cell_type": "code",
   "execution_count": 3,
   "id": "ab381e8d-0155-4a1b-8d03-738a78446602",
   "metadata": {},
   "outputs": [],
   "source": [
    "from dafnedset import datasets_simple as ds"
   ]
  },
  {
   "cell_type": "code",
   "execution_count": 4,
   "id": "a7f1a827-5214-4fcc-bf32-1652eb8514a2",
   "metadata": {},
   "outputs": [],
   "source": [
    "from dafnedset import fun_ops as fop"
   ]
  },
  {
   "cell_type": "code",
   "execution_count": 5,
   "id": "6ce753fc-e8a8-4799-aa1b-91f159270f7d",
   "metadata": {},
   "outputs": [],
   "source": [
    "from dafnedset import fun_transformations as ftr"
   ]
  },
  {
   "cell_type": "code",
   "execution_count": 6,
   "id": "a967b994-b7b6-4d6e-b90b-1907b8512ad2",
   "metadata": {},
   "outputs": [],
   "source": [
    "from dafnedset.presets_simple import pos10,neg10"
   ]
  },
  {
   "cell_type": "code",
   "execution_count": 7,
   "id": "f7fcdb60-52c2-4003-b637-c14f6d8049d4",
   "metadata": {},
   "outputs": [],
   "source": [
    "from dafnedset.presets_simple import total_pos"
   ]
  },
  {
   "cell_type": "code",
   "execution_count": 8,
   "id": "1b7e1c22-f811-4438-a67b-836443bfdc8d",
   "metadata": {},
   "outputs": [],
   "source": [
    "p = neg10.parts[0]"
   ]
  },
  {
   "cell_type": "code",
   "execution_count": 9,
   "id": "8b85cadf-d267-45e8-8c1f-eda5621f7798",
   "metadata": {},
   "outputs": [
    {
     "data": {
      "text/plain": [
       "est: string\n",
       "iid: int64\n",
       "ep: int64\n",
       "t: list<item: date32[day]>\n",
       "  child 0, item: date32[day]\n",
       "norte: list<item: double>\n",
       "  child 0, item: double\n",
       "este: list<item: double>\n",
       "  child 0, item: double\n",
       "altura: list<item: double>\n",
       "  child 0, item: double\n",
       "etiqueta: list<item: double>\n",
       "  child 0, item: double\n",
       "-- schema metadata --\n",
       "pandas: '{\"index_columns\": [], \"column_indexes\": [], \"columns\": [{\"name\":' + 959"
      ]
     },
     "execution_count": 9,
     "metadata": {},
     "output_type": "execute_result"
    }
   ],
   "source": [
    "p._get_schema()"
   ]
  },
  {
   "cell_type": "code",
   "execution_count": 10,
   "id": "8a3d8c46-5b8d-4d07-8687-420ce48c4b81",
   "metadata": {},
   "outputs": [],
   "source": [
    "p4 = p*4"
   ]
  },
  {
   "cell_type": "code",
   "execution_count": 10,
   "id": "1fad5a65-e0d0-4d93-8578-aaa90059f60b",
   "metadata": {},
   "outputs": [],
   "source": [
    "p5a = p + p + p + p + p\n",
    "p5 = p*4 + p"
   ]
  },
  {
   "cell_type": "code",
   "execution_count": 14,
   "id": "9590f20f-5c04-4155-a23f-1e6b6cdfbc50",
   "metadata": {},
   "outputs": [
    {
     "name": "stdout",
     "output_type": "stream",
     "text": [
      "200...200...200...200...200...200...200...200...200...200...200...200...200...200...200...200...200...200...200...200...200...200...200...200...200...200...200...200...200...200...200...200...200...200...200...200...200...200...200...200...200...200...200...200...200...200...200...200...200...61..."
     ]
    }
   ],
   "source": [
    "for i in p:\n",
    "    batch = i\n",
    "    print(f'{len(batch)}',end='...')"
   ]
  },
  {
   "cell_type": "code",
   "execution_count": 10,
   "id": "724a8f1c-c4a0-4277-a591-1a466b617f3b",
   "metadata": {},
   "outputs": [
    {
     "name": "stdout",
     "output_type": "stream",
     "text": [
      "200...200...200...200...200...200...200...200...200...200...200...200...200...200...200...200...200...200...200...200...200...200...200...200...200...200...200...200...200...200...200...200...200...200...200...200...200...200...200...200...200...200...200...200...200...200...200...200...200...61..."
     ]
    }
   ],
   "source": [
    "for i in p:\n",
    "    batch = i\n",
    "    print(f'{len(batch)}',end='...')"
   ]
  },
  {
   "cell_type": "code",
   "execution_count": 11,
   "id": "f4f09818-1cde-406a-8aec-a56cd353ac57",
   "metadata": {},
   "outputs": [],
   "source": [
    "sch = p._get_schema()"
   ]
  },
  {
   "cell_type": "code",
   "execution_count": 12,
   "id": "62cd8a28-215f-4199-97f7-b0c041ed33d5",
   "metadata": {},
   "outputs": [
    {
     "data": {
      "text/plain": [
       "140"
      ]
     },
     "execution_count": 12,
     "metadata": {},
     "output_type": "execute_result"
    }
   ],
   "source": [
    "\n",
    "28*5"
   ]
  },
  {
   "cell_type": "code",
   "execution_count": 13,
   "id": "a03d89de-77db-4fca-8dd8-714eaa228a99",
   "metadata": {},
   "outputs": [
    {
     "name": "stdout",
     "output_type": "stream",
     "text": [
      "200...200...200...200...200...200...200...200...200...200...200...200...200...200...200...200...200...200...200...200...200...200...200...200...200...200...200...200...200...200...200...200...200...200...200...200...200...200...200...200...200...200...200...200...200...200...200...200...200...200...200...200...200...200...200...200...200...200...200...200...200...200...200...200...200...200...200...200...200...200...200...200...200...200...200...200...200...200...200...200...200...200...200...200...200...200...200...200...200...200...200...200...200...200...200...200...200...200...200...200...200...200...200...200...200...200...200...200...200...200...200...200...200...200...200...200...200...200...200...200...200...200...200...200...200...200...200...200...200...200...200...200...200...200...200...200...112..."
     ]
    }
   ],
   "source": [
    "for i in p4:\n",
    "    batch = i\n",
    "    print(f'{len(batch)}',end='...')"
   ]
  },
  {
   "cell_type": "code",
   "execution_count": 14,
   "id": "a75eb015-f087-432b-ab9f-d0c027f14c67",
   "metadata": {},
   "outputs": [
    {
     "name": "stdout",
     "output_type": "stream",
     "text": [
      "200...200...200...200...200...200...200...200...200...200...200...200...200...200...200...200...200...200...200...200...200...200...200...200...200...200...200...200...200...200...200...200...200...200...200...200...200...200...200...200...200...200...200...200...200...200...200...200...200...200...200...200...200...200...200...200...200...200...200...200...200...200...200...200...200...200...200...200...200...200...200...200...200...200...200...200...200...200...200...200...200...200...200...200...200...200...200...200...200...200...200...200...200...200...200...200...200...200...200...200...200...200...200...200...200...200...200...200...200...200...200...200...200...200...200...200...200...200...200...200...200...200...200...200...200...200...200...200...200...200...200...200...200...200...200...200...200...200...200...200...200...200...200...200...200...200...200...200...200...200...200...200...200...200...200...200...200...200...200...200...200...200...200...200...200...200...200...200...200...200...140..."
     ]
    }
   ],
   "source": [
    "for i in p5:\n",
    "    batch = i\n",
    "    print(f'{len(batch)}',end='...')"
   ]
  },
  {
   "cell_type": "code",
   "execution_count": 27,
   "id": "933e25a7-67a4-40e4-b5b8-f8be5e808275",
   "metadata": {},
   "outputs": [
    {
     "data": {
      "text/plain": [
       "True"
      ]
     },
     "execution_count": 27,
     "metadata": {},
     "output_type": "execute_result"
    }
   ],
   "source": [
    "p5.providers[0].get_new_next()"
   ]
  },
  {
   "cell_type": "code",
   "execution_count": 34,
   "id": "8b4e1ba2-1e02-4afa-a398-be607f859888",
   "metadata": {},
   "outputs": [],
   "source": [
    "import matplotlib.pyplot as plt"
   ]
  },
  {
   "cell_type": "code",
   "execution_count": 42,
   "id": "e0ea7639-c7ae-4110-a7fb-91c1cf509285",
   "metadata": {},
   "outputs": [
    {
     "data": {
      "text/plain": [
       "[<matplotlib.lines.Line2D at 0x7f1c00d32fa0>]"
      ]
     },
     "execution_count": 42,
     "metadata": {},
     "output_type": "execute_result"
    },
    {
     "data": {
      "image/png": "[encoded data removed]",
      "text/plain": [
       "<Figure size 432x288 with 1 Axes>"
      ]
     },
     "metadata": {
      "needs_background": "light"
     },
     "output_type": "display_data"
    }
   ],
   "source": [
    "plt.plot(batch.to_pandas().norte[60])"
   ]
  },
  {
   "cell_type": "code",
   "execution_count": 30,
   "id": "0d653213-7d36-499c-afd3-61e360248884",
   "metadata": {},
   "outputs": [
    {
     "data": {
      "text/plain": [
       "0"
      ]
     },
     "execution_count": 30,
     "metadata": {},
     "output_type": "execute_result"
    }
   ],
   "source": [
    "sum(abs(batch.to_pandas().loc[:,'altura'].map(np.nanmean)) > 1e-8)"
   ]
  },
  {
   "cell_type": "code",
   "execution_count": 25,
   "id": "eb4a9fc3-fae0-4861-b376-bd6acb8ca78f",
   "metadata": {},
   "outputs": [
    {
     "data": {
      "text/plain": [
       "[0]"
      ]
     },
     "execution_count": 25,
     "metadata": {},
     "output_type": "execute_result"
    }
   ],
   "source": [
    "p5.providers[0].iteration"
   ]
  },
  {
   "cell_type": "code",
   "execution_count": 24,
   "id": "6f634b23-885e-488d-b1d2-2148375f54a2",
   "metadata": {},
   "outputs": [
    {
     "data": {
      "text/plain": [
       "[None, None]"
      ]
     },
     "execution_count": 24,
     "metadata": {},
     "output_type": "execute_result"
    }
   ],
   "source": [
    "bs.fill_streams(p5)"
   ]
  },
  {
   "cell_type": "code",
   "execution_count": 17,
   "id": "87fa6261-342f-414f-9acd-ba39bf20ecd2",
   "metadata": {},
   "outputs": [],
   "source": [
    "pos = pos10.data"
   ]
  },
  {
   "cell_type": "code",
   "execution_count": 18,
   "id": "d473ff35-af9a-4f7b-b198-514eb4f7d72f",
   "metadata": {},
   "outputs": [],
   "source": [
    "cfb = ds.DefaultQuerys.positive()"
   ]
  },
  {
   "cell_type": "code",
   "execution_count": 19,
   "id": "0eccfef0-555a-41cb-80b9-dfd9140c7788",
   "metadata": {},
   "outputs": [],
   "source": [
    "mixcfb = fop.map(pos,ftr.random_rot_dir())"
   ]
  },
  {
   "cell_type": "code",
   "execution_count": 28,
   "id": "c5166008-a14e-43f3-88c2-d716e19e93f3",
   "metadata": {},
   "outputs": [],
   "source": [
    "pos.options.repeat = True"
   ]
  },
  {
   "cell_type": "code",
   "execution_count": 22,
   "id": "29e92a53-7102-42dc-96db-01c1ef8a2d3c",
   "metadata": {},
   "outputs": [],
   "source": [
    "total_pos.data.options.repeat = True"
   ]
  },
  {
   "cell_type": "code",
   "execution_count": 27,
   "id": "2c2fa1be-cf62-4efe-b272-abea8dac92de",
   "metadata": {},
   "outputs": [],
   "source": [
    "for i in total_pos.data:\n",
    "    batch = i\n",
    "    print(f'{len(batch)}',end='...')"
   ]
  },
  {
   "cell_type": "code",
   "execution_count": 12,
   "id": "74233ae8-6246-4e95-82a0-dbf105ed36f6",
   "metadata": {},
   "outputs": [],
   "source": [
    "import matplotlib.pyplot as plt"
   ]
  },
  {
   "cell_type": "code",
   "execution_count": 20,
   "id": "63e8e56c-13ba-4774-a2a5-6084ce617eb0",
   "metadata": {},
   "outputs": [],
   "source": [
    "import pandas as pd"
   ]
  },
  {
   "cell_type": "code",
   "execution_count": 21,
   "id": "8adbefaf-4b97-4438-9742-98b8f75f7d6f",
   "metadata": {},
   "outputs": [
    {
     "data": {
      "text/plain": [
       "<AxesSubplot:>"
      ]
     },
     "execution_count": 21,
     "metadata": {},
     "output_type": "execute_result"
    },
    {
     "data": {
      "image/png": "[encoded data removed]",
      "text/plain": [
       "<Figure size 432x288 with 1 Axes>"
      ]
     },
     "metadata": {
      "needs_background": "light"
     },
     "output_type": "display_data"
    }
   ],
   "source": [
    "data = batch.to_pandas().iloc[0:2]\n",
    "\n",
    "ax = pd.DataFrame((data.norte-data.norte.map(np.mean)).to_dict()).plot()\n",
    "pd.DataFrame((data.este-data.este.map(np.mean)).to_dict()).plot(ax=ax)\n",
    "#plt.gca().set_aspect('equal')"
   ]
  },
  {
   "cell_type": "code",
   "execution_count": 22,
   "id": "28d34b02-9687-456a-ad1f-55d7e282642f",
   "metadata": {},
   "outputs": [
    {
     "data": {
      "text/plain": [
       "pyarrow.RecordBatch\n",
       "est: string\n",
       "iid: int64\n",
       "ep: int64\n",
       "t: list<item: date32[day]>\n",
       "  child 0, item: date32[day]\n",
       "norte: list<item: double>\n",
       "  child 0, item: double\n",
       "este: list<item: double>\n",
       "  child 0, item: double\n",
       "altura: list<item: double>\n",
       "  child 0, item: double\n",
       "etiqueta: list<item: double>\n",
       "  child 0, item: double"
      ]
     },
     "execution_count": 22,
     "metadata": {},
     "output_type": "execute_result"
    }
   ],
   "source": [
    "batch.slice(0,2)"
   ]
  },
  {
   "cell_type": "code",
   "execution_count": 23,
   "id": "7c4224fd-60f0-4763-a403-2695c35d5195",
   "metadata": {},
   "outputs": [
    {
     "name": "stderr",
     "output_type": "stream",
     "text": [
      "/home/javier/proy/dafne/apps/py.dset/venv/lib/python3.9/site-packages/dafnedset/fun_transformations.py:172: FutureWarning: pyarrow.ListValue is deprecated as of 1.0.0, please use pyarrow.ListScalar instead.\n",
      "  if isinstance(labels[0],pa.ListValue)\\\n",
      "/home/javier/proy/dafne/apps/py.dset/venv/lib/python3.9/site-packages/dafnedset/fun_transformations.py:182: FutureWarning: pyarrow.BooleanValue is deprecated as of 1.0.0, please use pyarrow.BooleanScalar instead.\n",
      "  if isinstance(labels[0],pa.BooleanValue):\n"
     ]
    },
    {
     "data": {
      "text/plain": [
       "<AxesSubplot:>"
      ]
     },
     "execution_count": 23,
     "metadata": {},
     "output_type": "execute_result"
    },
    {
     "data": {
      "image/png": "[encoded data removed]",
      "text/plain": [
       "<Figure size 432x288 with 1 Axes>"
      ]
     },
     "metadata": {
      "needs_background": "light"
     },
     "output_type": "display_data"
    }
   ],
   "source": [
    "data = ftr.channel_mix_w_relabel()(batch.slice(0,2)).to_pandas()\n",
    "\n",
    "ax = pd.DataFrame((data.norte-data.norte.map(np.mean)).to_dict()).plot()\n",
    "pd.DataFrame((data.este-data.este.map(np.mean)).to_dict()).plot(ax=ax)\n",
    "#plt.gca().set_aspect('equal')\n"
   ]
  },
  {
   "cell_type": "code",
   "execution_count": 18,
   "id": "ed1e7d63-572e-4d57-ab56-d9c2175c6a4e",
   "metadata": {},
   "outputs": [
    {
     "data": {
      "image/png": "[encoded data removed]",
      "text/plain": [
       "<Figure size 432x288 with 1 Axes>"
      ]
     },
     "metadata": {
      "needs_background": "light"
     },
     "output_type": "display_data"
    }
   ],
   "source": [
    "data = batch.to_pandas().iloc[0]\n",
    "\n",
    "plt.plot(data.norte-data.norte.mean(),data.este-data.este.mean())\n",
    "#pd.DataFrame((data.este-data.este.map(np.mean)).to_dict()).plot(ax=ax)\n",
    "plt.gca().set_aspect('equal')"
   ]
  },
  {
   "cell_type": "code",
   "execution_count": 19,
   "id": "90530c05-732b-4e11-8545-d77d1b905398",
   "metadata": {},
   "outputs": [
    {
     "data": {
      "image/png": "[encoded data removed]",
      "text/plain": [
       "<Figure size 432x288 with 1 Axes>"
      ]
     },
     "metadata": {
      "needs_background": "light"
     },
     "output_type": "display_data"
    }
   ],
   "source": [
    "data = ftr.random_rot_dir()(batch.slice(0,2)).to_pandas().iloc[0]\n",
    "\n",
    "plt.plot(data.norte-data.norte.mean(),data.este-data.este.mean())\n",
    "#pd.DataFrame((data.este-data.este.map(np.mean)).to_dict()).plot(ax=ax)\n",
    "plt.gca().set_aspect('equal')"
   ]
  },
  {
   "cell_type": "code",
   "execution_count": 20,
   "id": "0068c297-c2a9-47e8-a5df-c206ae41252d",
   "metadata": {},
   "outputs": [],
   "source": [
    "pos.options.niter = 1"
   ]
  },
  {
   "cell_type": "code",
   "execution_count": 21,
   "id": "f56b7527-51c8-4fdd-b307-64f51fa02c8a",
   "metadata": {},
   "outputs": [
    {
     "name": "stdout",
     "output_type": "stream",
     "text": [
      "100...100...100...100...100...100...100...100...100...100...100...100...100...100...100...100...100...100...100...100...100...100...100...100...100...100...100...100...100...100...100...100...100...100...100...100...100...100...100...100...100...100...100...100...100...100...100...100...100...100...100...100...100...100...100...100...100...100...100...100...100...100...100...100...100...100...100...100...28..."
     ]
    }
   ],
   "source": [
    "for i in pos:\n",
    "    batch = i\n",
    "    print(f'{len(batch)}',end='...')"
   ]
  },
  {
   "cell_type": "code",
   "execution_count": 22,
   "id": "4a93f252-940c-4c73-8f5d-5997f1a9ebcd",
   "metadata": {},
   "outputs": [],
   "source": [
    "pos.iteration=[-1]"
   ]
  },
  {
   "cell_type": "code",
   "execution_count": 23,
   "id": "0be4d75c-3406-4b3d-b79f-5cc3ed4838c1",
   "metadata": {},
   "outputs": [],
   "source": [
    "pos.exhausted=False"
   ]
  },
  {
   "cell_type": "code",
   "execution_count": 38,
   "id": "3239bc7a-40d4-4a04-8b44-99fcb23bf741",
   "metadata": {},
   "outputs": [
    {
     "data": {
      "text/plain": [
       "<dafnedset.split_simple.FunSplitter at 0x7fab21f691c0>"
      ]
     },
     "execution_count": 38,
     "metadata": {},
     "output_type": "execute_result"
    }
   ],
   "source": []
  },
  {
   "cell_type": "code",
   "execution_count": 45,
   "id": "746ac120-501a-461d-a3df-1fb6f5e4a64f",
   "metadata": {},
   "outputs": [
    {
     "data": {
      "text/plain": [
       "<dafnedset.base_simple.FunBuffer at 0x7faad8be3f40>"
      ]
     },
     "execution_count": 45,
     "metadata": {},
     "output_type": "execute_result"
    }
   ],
   "source": [
    "pos108"
   ]
  },
  {
   "cell_type": "code",
   "execution_count": 12,
   "id": "fb26981c-9c3a-4af7-baab-72dd63caeffb",
   "metadata": {},
   "outputs": [
    {
     "name": "stdout",
     "output_type": "stream",
     "text": [
      "200...184..."
     ]
    }
   ],
   "source": [
    "pos108 = (pos10.parts[3] * 8)\n",
    "\n",
    "for i in pos108:\n",
    "    batch = i\n",
    "    print(f'{len(batch)}',end='...')"
   ]
  },
  {
   "cell_type": "code",
   "execution_count": 15,
   "id": "91e0ec75-3353-4c9b-9197-fab0495f8c9f",
   "metadata": {},
   "outputs": [
    {
     "data": {
      "text/plain": [
       "0.5"
      ]
     },
     "execution_count": 15,
     "metadata": {},
     "output_type": "execute_result"
    }
   ],
   "source": [
    "100 * 0.005"
   ]
  },
  {
   "cell_type": "code",
   "execution_count": 14,
   "id": "dcf06a15-a35c-4b6e-941d-efe304661997",
   "metadata": {},
   "outputs": [
    {
     "data": {
      "text/plain": [
       "[array([ 0,  2,  4,  5,  6,  7,  8, 12, 13, 14, 15, 16, 18, 19, 20, 21, 25,\n",
       "        28, 29, 30, 31, 32, 33, 34, 35, 36, 37, 38, 40, 41, 43, 44, 45, 47,\n",
       "        48, 49, 50, 51]),\n",
       " array([ 1,  9, 22, 24, 26, 27, 42, 52]),\n",
       " array([ 3, 10, 11, 17, 23, 39, 46]),\n",
       " array([], dtype=int64)]"
      ]
     },
     "execution_count": 14,
     "metadata": {},
     "output_type": "execute_result"
    }
   ],
   "source": [
    "pos10.parts.ixes"
   ]
  },
  {
   "cell_type": "code",
   "execution_count": 40,
   "id": "52398d82-a47f-42be-915e-c3f5e12abb8f",
   "metadata": {},
   "outputs": [
    {
     "data": {
      "text/plain": [
       "pyarrow.RecordBatch\n",
       "est: string\n",
       "iid: int64\n",
       "ep: int64\n",
       "t: list<item: date32[day]>\n",
       "  child 0, item: date32[day]\n",
       "norte: list<item: double>\n",
       "  child 0, item: double\n",
       "este: list<item: double>\n",
       "  child 0, item: double\n",
       "altura: list<item: double>\n",
       "  child 0, item: double\n",
       "etiqueta: list<item: double>\n",
       "  child 0, item: double"
      ]
     },
     "execution_count": 40,
     "metadata": {},
     "output_type": "execute_result"
    }
   ],
   "source": [
    "batch"
   ]
  },
  {
   "cell_type": "code",
   "execution_count": 26,
   "id": "b1248083-8183-4337-9f1d-d176d42669cd",
   "metadata": {},
   "outputs": [
    {
     "data": {
      "text/plain": [
       "<dafnedset.base_simple.FunBuffer at 0x7fab06050eb0>"
      ]
     },
     "execution_count": 26,
     "metadata": {},
     "output_type": "execute_result"
    }
   ],
   "source": [
    "pos10.parts[1] * 8"
   ]
  },
  {
   "cell_type": "code",
   "execution_count": 98,
   "id": "ab86e5d4-da7f-44e1-80f4-85365ed07541",
   "metadata": {},
   "outputs": [],
   "source": [
    "from dafnedset import tensorflow as dftf"
   ]
  },
  {
   "cell_type": "code",
   "execution_count": 99,
   "id": "b6c71f49-e468-44f9-a960-e973f369b4c7",
   "metadata": {},
   "outputs": [],
   "source": [
    "d = dftf.toDataset(pos10.parts[0])"
   ]
  },
  {
   "cell_type": "code",
   "execution_count": 103,
   "id": "026992c2-4f4e-4d6b-afb0-ce7b90a44195",
   "metadata": {},
   "outputs": [
    {
     "data": {
      "text/plain": [
       "(<tf.Tensor: shape=(10, 61, 3), dtype=float32, numpy=\n",
       " array([[[-7.82719851e-01,  4.66651529e-01,  1.93748530e-02],\n",
       "         [-7.84516811e-01,  4.66598541e-01,  1.56898517e-02],\n",
       "         [-7.81444848e-01,  4.68043536e-01,  2.21668519e-02],\n",
       "         ...,\n",
       "         [ 8.26860189e-01, -4.90199447e-01, -2.94341482e-02],\n",
       "         [ 8.30942154e-01, -4.90949452e-01, -2.87611485e-02],\n",
       "         [ 8.32980156e-01, -4.92446452e-01, -3.04291472e-02]],\n",
       " \n",
       "        [[ 4.93744249e-03,  1.57478685e-03,  8.08145944e-03],\n",
       "         [-1.05557374e-04, -1.43213110e-04,  8.22845940e-03],\n",
       "         [-3.69755737e-03,  4.72786895e-04,  7.43545918e-03],\n",
       "         ...,\n",
       "         [ 1.95344258e-03, -8.52121320e-03, -5.65540977e-04],\n",
       "         [ 4.38344246e-03, -3.86521313e-03, -3.78754106e-03],\n",
       "         [-6.41557388e-04, -5.77221299e-03, -9.28054098e-03]],\n",
       " \n",
       "        [[-5.81751585e-01,  4.37194377e-01, -1.46179507e-02],\n",
       "         [-5.79294562e-01,  4.36469376e-01, -4.77950816e-04],\n",
       "         [-5.81426561e-01,  4.37395364e-01, -1.45159513e-02],\n",
       "         ...,\n",
       "         [ 7.04768419e-01, -5.22644639e-01,  5.75304916e-03],\n",
       "         [ 7.10686445e-01, -5.26431620e-01, -7.12950830e-04],\n",
       "         [ 7.11280406e-01, -5.28107643e-01, -7.86795095e-03]],\n",
       " \n",
       "        ...,\n",
       " \n",
       "        [[-2.36624032e-01, -2.64786221e-02, -2.02483614e-03],\n",
       "         [-2.39356026e-01, -2.61836238e-02, -1.07898358e-02],\n",
       "         [-2.37894028e-01, -2.62696221e-02, -1.31158363e-02],\n",
       "         ...,\n",
       "         [ 2.59797961e-01,  2.66843773e-02,  6.18516374e-03],\n",
       "         [ 2.62111962e-01,  2.81893779e-02,  1.26691638e-02],\n",
       "         [ 2.62664974e-01,  2.86953766e-02,  1.09431641e-02]],\n",
       " \n",
       "        [[ 6.93688518e-04, -4.10242612e-03, -4.23114761e-05],\n",
       "         [ 3.51688534e-04, -3.56842624e-03,  1.47688523e-04],\n",
       "         [ 3.09688534e-04, -3.10742622e-03,  5.04868850e-03],\n",
       "         ...,\n",
       "         [ 1.10668852e-03,  2.30557378e-03, -3.37731140e-03],\n",
       "         [ 4.17688512e-04,  3.01357382e-03,  1.04568852e-03],\n",
       "         [-1.83114753e-05,  2.58557382e-03,  5.14568854e-03]],\n",
       " \n",
       "        [[ 2.62621301e-03, -4.49803279e-04, -2.45040003e-02],\n",
       "         [ 2.49921321e-03,  1.13619678e-03, -2.65250001e-02],\n",
       "         [ 1.42721308e-03, -1.02880329e-03, -2.27579996e-02],\n",
       "         ...,\n",
       "         [ 1.43821316e-03, -2.54803279e-04,  4.00999998e-04],\n",
       "         [ 8.71213095e-04, -2.67980318e-03,  3.88199999e-03],\n",
       "         [-1.21786885e-04, -2.67380336e-03, -3.34400008e-03]]],\n",
       "       dtype=float32)>,\n",
       " <tf.Tensor: shape=(10, 2), dtype=float32, numpy=\n",
       " array([[1., 0.],\n",
       "        [1., 0.],\n",
       "        [1., 0.],\n",
       "        [1., 0.],\n",
       "        [1., 0.],\n",
       "        [1., 0.],\n",
       "        [1., 0.],\n",
       "        [1., 0.],\n",
       "        [1., 0.],\n",
       "        [1., 0.]], dtype=float32)>)"
      ]
     },
     "execution_count": 103,
     "metadata": {},
     "output_type": "execute_result"
    }
   ],
   "source": [
    "d.batch(10).take(1).get_single_element()"
   ]
  },
  {
   "cell_type": "code",
   "execution_count": 14,
   "id": "1ece7445-fa89-4672-b405-a2ea3f1c8a97",
   "metadata": {},
   "outputs": [],
   "source": [
    "import importlib"
   ]
  },
  {
   "cell_type": "code",
   "execution_count": 106,
   "id": "be5a328b-6abb-49de-b8d3-a4e7c100802c",
   "metadata": {},
   "outputs": [
    {
     "name": "stdout",
     "output_type": "stream",
     "text": [
      "0\n",
      "10\n"
     ]
    }
   ],
   "source": [
    "import dafnedset.tf.dataspec as dftf\n",
    "\n",
    "tfAdapter = importlib.reload(dftf).adapter\n",
    "\n",
    "adp = tfAdapter(p._get_schema())\n",
    "\n",
    "todo = neg10.parts[0] + pos10.parts[0]\n",
    "\n",
    "adp = tfAdapter(todo._get_schema())\n",
    "\n",
    "todo.options.batch_size = 1e10\n",
    "\n",
    "for ix,i in enumerate(todo):\n",
    "    print(ix)\n",
    "    data = adp.ToBatchTensors(i)\n",
    "\n",
    "dset = tf.data.Dataset.from_tensor_slices(data).map(lambda d: (tf.stack((d['norte'],d['este'],d['altura'])),d['etiqueta'])).shuffle(int(1e7))\n",
    "\n",
    "for i in dset.batch(10).take(1):\n",
    "    print(len(i[0]))"
   ]
  },
  {
   "cell_type": "code",
   "execution_count": 107,
   "id": "ec1161e8-990d-4e53-926c-5e977fd98572",
   "metadata": {},
   "outputs": [
    {
     "data": {
      "text/plain": [
       "(<tf.Tensor: shape=(10, 3, 61), dtype=float64, numpy=\n",
       " array([[[-1.02500000e-03, -1.78200000e-03, -2.82000000e-04, ...,\n",
       "           1.14500000e-03,  2.11600000e-03,  1.69900000e-03],\n",
       "         [-3.85065574e-04, -2.82065574e-04, -1.49806557e-03, ...,\n",
       "           3.15793443e-03,  1.78893443e-03,  2.45193443e-03],\n",
       "         [ 2.66870492e-03, -4.87829508e-03, -5.29329508e-03, ...,\n",
       "          -3.23529508e-03, -1.56295082e-04, -6.20029508e-03]],\n",
       " \n",
       "        [[-2.51518033e-03, -8.66180328e-04, -1.27180328e-04, ...,\n",
       "          -1.73718033e-03, -1.62518033e-03, -1.91418033e-03],\n",
       "         [ 1.14508197e-04,  1.95550820e-03, -2.83491803e-04, ...,\n",
       "           5.09508197e-04,  1.50819672e-06, -1.36449180e-03],\n",
       "         [ 6.40844262e-03,  5.45044262e-03, -2.08155738e-03, ...,\n",
       "          -5.46255738e-03,  1.94442623e-04, -4.06855738e-03]],\n",
       " \n",
       "        [[-1.49455738e-03,  1.58944262e-03,  1.43344262e-03, ...,\n",
       "           7.11442623e-04,  1.88244262e-03,  8.73442623e-04],\n",
       "         [-2.52883607e-03, -3.89383607e-03, -1.86483607e-03, ...,\n",
       "           2.32716393e-03,  1.76516393e-03,  1.36716393e-03],\n",
       "         [-6.44724590e-03, -7.30524590e-03, -6.12424590e-03, ...,\n",
       "           2.81575410e-03, -2.78724590e-03, -7.05245902e-04]],\n",
       " \n",
       "        ...,\n",
       " \n",
       "        [[-8.63555738e-03, -8.75855738e-03, -8.12455738e-03, ...,\n",
       "           1.06764426e-02,  1.02544426e-02,  9.90044262e-03],\n",
       "         [-1.65445902e-03, -3.34145902e-03, -3.44645902e-03, ...,\n",
       "           5.43254098e-03,  2.92654098e-03,  3.74854098e-03],\n",
       "         [ 2.30696721e-03,  1.72996721e-03,  1.42496721e-03, ...,\n",
       "          -2.18303279e-03, -6.39603279e-03, -5.97303279e-03]],\n",
       " \n",
       "        [[ 2.20850820e-03, -4.82849180e-03, -2.48149180e-03, ...,\n",
       "           2.91950820e-03,  1.68750820e-03, -7.34918033e-05],\n",
       "         [ 2.67306557e-03, -2.97893443e-03, -6.81934426e-04, ...,\n",
       "           2.13806557e-03,  6.84065574e-04, -2.51093443e-03],\n",
       "         [ 4.05359016e-03, -8.45740984e-03,  5.17559016e-03, ...,\n",
       "           1.27059016e-03,  2.19159016e-03,  5.77959016e-03]],\n",
       " \n",
       "        [[-1.43557377e-04, -2.43755738e-03, -1.81557377e-04, ...,\n",
       "           8.94442623e-04, -4.55573770e-05, -1.83555738e-03],\n",
       "         [ 3.94801639e-03,  4.24016393e-04,  8.10016393e-04, ...,\n",
       "           2.07401639e-03, -8.83983607e-04,  2.99901639e-03],\n",
       "         [-3.37973770e-03, -1.11607377e-02, -6.10973770e-03, ...,\n",
       "          -5.36173770e-03,  1.25626230e-03, -6.78673770e-03]]])>,\n",
       " <tf.Tensor: shape=(10, 2), dtype=float64, numpy=\n",
       " array([[0., 1.],\n",
       "        [0., 1.],\n",
       "        [0., 1.],\n",
       "        [0., 1.],\n",
       "        [0., 1.],\n",
       "        [0., 1.],\n",
       "        [1., 0.],\n",
       "        [1., 0.],\n",
       "        [0., 1.],\n",
       "        [0., 1.]])>)"
      ]
     },
     "execution_count": 107,
     "metadata": {},
     "output_type": "execute_result"
    }
   ],
   "source": [
    "i"
   ]
  },
  {
   "cell_type": "code",
   "execution_count": 108,
   "id": "6f48511b-dbe4-41aa-b5d7-dbc326010e60",
   "metadata": {},
   "outputs": [],
   "source": [
    "import dafnedset.tf.glue as glue"
   ]
  },
  {
   "cell_type": "code",
   "execution_count": 109,
   "id": "67cbef28-2754-42bb-9457-1a9ff2b8fd14",
   "metadata": {},
   "outputs": [
    {
     "name": "stdout",
     "output_type": "stream",
     "text": [
      "0\n"
     ]
    },
    {
     "data": {
      "text/plain": [
       "(<tf.Tensor: shape=(10, 3, 61), dtype=float64, numpy=\n",
       " array([[[ 5.88344262e-04,  8.43442623e-05,  1.43334426e-03, ...,\n",
       "           1.15034426e-03,  4.53442623e-05, -2.94465574e-03],\n",
       "         [ 5.41360656e-04,  1.63536066e-03, -5.60639344e-04, ...,\n",
       "          -2.38663934e-03, -5.57639344e-04, -2.74639344e-04],\n",
       "         [ 3.18509836e-03,  2.15909836e-03,  2.11098361e-04, ...,\n",
       "           2.63609836e-03, -4.52490164e-03, -4.84901639e-04]],\n",
       " \n",
       "        [[ 5.33442623e-05,  2.07344262e-04,  7.52344262e-04, ...,\n",
       "          -1.00465574e-03,  2.46134426e-03,  1.87834426e-03],\n",
       "         [ 1.68419672e-03,  2.47196721e-04,  3.74196721e-04, ...,\n",
       "          -1.18380328e-03, -2.24880328e-03, -2.52803279e-04],\n",
       "         [-2.03688525e-04, -7.70688525e-04, -1.39368852e-03, ...,\n",
       "          -4.25468852e-03, -9.42468852e-03, -1.05256885e-02]],\n",
       " \n",
       "        [[-2.68514754e-03, -2.97614754e-03, -3.71814754e-03, ...,\n",
       "           1.16585246e-03,  1.11285246e-03,  4.22852459e-04],\n",
       "         [-2.14340984e-03, -1.51040984e-03, -4.31740984e-03, ...,\n",
       "           2.20159016e-03,  1.65459016e-03,  2.86559016e-03],\n",
       "         [-3.16567213e-03,  2.51832787e-03,  5.40632787e-03, ...,\n",
       "          -5.61967213e-03,  4.57632787e-03,  3.87332787e-03]],\n",
       " \n",
       "        ...,\n",
       " \n",
       "        [[-5.46031148e-03, -4.69631148e-03, -5.87731148e-03, ...,\n",
       "           4.05668852e-03,  4.44568852e-03,  5.02768852e-03],\n",
       "         [-1.10598361e-03, -2.70398361e-03, -2.23398361e-03, ...,\n",
       "           5.29301639e-03,  4.16401639e-03,  4.12701639e-03],\n",
       "         [-4.89257377e-03, -1.88157377e-03, -3.01257377e-03, ...,\n",
       "           1.81342623e-03,  6.55242623e-03,  8.11942623e-03]],\n",
       " \n",
       "        [[ 7.70950820e-04, -7.53049180e-04,  1.31950820e-04, ...,\n",
       "          -9.12049180e-04, -3.33049180e-04, -2.20491803e-05],\n",
       "         [ 3.44983607e-04,  9.38983607e-04,  1.37698361e-03, ...,\n",
       "          -4.01639344e-06,  2.55983607e-04,  4.19836066e-05],\n",
       "         [ 8.67606557e-04,  3.43960656e-03,  3.42060656e-03, ...,\n",
       "           4.81660656e-03,  8.89606557e-04,  1.31660656e-03]],\n",
       " \n",
       "        [[-1.02770492e-04, -2.36770492e-04, -1.46177049e-03, ...,\n",
       "          -2.10977049e-03, -5.98770492e-04,  1.22822951e-03],\n",
       "         [ 2.98567213e-03,  1.86867213e-03,  2.80467213e-03, ...,\n",
       "          -4.83327869e-04, -4.07327869e-04,  7.95672131e-04],\n",
       "         [-8.93296721e-03, -5.68796721e-03, -7.40596721e-03, ...,\n",
       "           9.53903279e-03,  8.11303279e-03,  7.20803279e-03]]])>,\n",
       " <tf.Tensor: shape=(10, 2), dtype=float64, numpy=\n",
       " array([[0., 1.],\n",
       "        [0., 1.],\n",
       "        [0., 1.],\n",
       "        [0., 1.],\n",
       "        [0., 1.],\n",
       "        [0., 1.],\n",
       "        [0., 1.],\n",
       "        [0., 1.],\n",
       "        [0., 1.],\n",
       "        [0., 1.]])>)"
      ]
     },
     "execution_count": 109,
     "metadata": {},
     "output_type": "execute_result"
    }
   ],
   "source": [
    "todo = neg10.parts[1] + pos10.parts[1]\n",
    "\n",
    "glue.dafneFbToTf(todo).batch(10).take(1).get_single_element()"
   ]
  },
  {
   "cell_type": "code",
   "execution_count": null,
   "id": "f6d2b233-2c69-4c28-8150-2697dbe2d8cb",
   "metadata": {},
   "outputs": [],
   "source": []
  }
 ],
 "metadata": {
  "kernelspec": {
   "display_name": "Python 3 (ipykernel)",
   "language": "python",
   "name": "python3"
  },
  "language_info": {
   "codemirror_mode": {
    "name": "ipython",
    "version": 3
   },
   "file_extension": ".py",
   "mimetype": "text/x-python",
   "name": "python",
   "nbconvert_exporter": "python",
   "pygments_lexer": "ipython3",
   "version": "3.7.12"
  }
 },
 "nbformat": 4,
 "nbformat_minor": 5
}
