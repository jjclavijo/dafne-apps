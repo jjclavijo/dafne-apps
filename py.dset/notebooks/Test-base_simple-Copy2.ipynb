{
 "cells": [
  {
   "cell_type": "code",
   "execution_count": 1,
   "id": "d991d3e3-fa06-4434-819e-6c70d340598e",
   "metadata": {},
   "outputs": [],
   "source": [
    "import numpy as np"
   ]
  },
  {
   "cell_type": "code",
   "execution_count": 2,
   "id": "713087da-344c-48e5-aca2-18742ebcbfa7",
   "metadata": {},
   "outputs": [],
   "source": [
    "import numpy as np\n",
    "from dafnedset import base_simple as bs"
   ]
  },
  {
   "cell_type": "code",
   "execution_count": 3,
   "id": "ab381e8d-0155-4a1b-8d03-738a78446602",
   "metadata": {},
   "outputs": [],
   "source": [
    "from dafnedset import datasets_simple as ds"
   ]
  },
  {
   "cell_type": "code",
   "execution_count": 4,
   "id": "a7f1a827-5214-4fcc-bf32-1652eb8514a2",
   "metadata": {},
   "outputs": [],
   "source": [
    "from dafnedset import fun_ops as fop"
   ]
  },
  {
   "cell_type": "code",
   "execution_count": 5,
   "id": "6ce753fc-e8a8-4799-aa1b-91f159270f7d",
   "metadata": {},
   "outputs": [],
   "source": [
    "from dafnedset import fun_transformations as ftr"
   ]
  },
  {
   "cell_type": "code",
   "execution_count": 6,
   "id": "a967b994-b7b6-4d6e-b90b-1907b8512ad2",
   "metadata": {},
   "outputs": [],
   "source": [
    "from dafnedset.presets_simple import pos10"
   ]
  },
  {
   "cell_type": "code",
   "execution_count": 16,
   "id": "f7fcdb60-52c2-4003-b637-c14f6d8049d4",
   "metadata": {},
   "outputs": [],
   "source": [
    "from dafnedset.presets_simple import total_pos"
   ]
  },
  {
   "cell_type": "code",
   "execution_count": 76,
   "id": "1b7e1c22-f811-4438-a67b-836443bfdc8d",
   "metadata": {},
   "outputs": [],
   "source": [
    "p = pos10.parts[0]"
   ]
  },
  {
   "cell_type": "code",
   "execution_count": 77,
   "id": "8a3d8c46-5b8d-4d07-8687-420ce48c4b81",
   "metadata": {},
   "outputs": [],
   "source": [
    "p4 = p*4"
   ]
  },
  {
   "cell_type": "code",
   "execution_count": 82,
   "id": "1fad5a65-e0d0-4d93-8578-aaa90059f60b",
   "metadata": {},
   "outputs": [],
   "source": [
    "p5 = p + p + p + p + p"
   ]
  },
  {
   "cell_type": "code",
   "execution_count": 83,
   "id": "9590f20f-5c04-4155-a23f-1e6b6cdfbc50",
   "metadata": {},
   "outputs": [],
   "source": [
    "for i in p:\n",
    "    batch = i\n",
    "    print(f'{len(batch)}',end='...')"
   ]
  },
  {
   "cell_type": "code",
   "execution_count": 84,
   "id": "62cd8a28-215f-4199-97f7-b0c041ed33d5",
   "metadata": {},
   "outputs": [
    {
     "data": {
      "text/plain": [
       "140"
      ]
     },
     "execution_count": 84,
     "metadata": {},
     "output_type": "execute_result"
    }
   ],
   "source": [
    "28*5"
   ]
  },
  {
   "cell_type": "code",
   "execution_count": 85,
   "id": "a03d89de-77db-4fca-8dd8-714eaa228a99",
   "metadata": {},
   "outputs": [],
   "source": [
    "for i in p4:\n",
    "    batch = i\n",
    "    print(f'{len(batch)}',end='...')"
   ]
  },
  {
   "cell_type": "code",
   "execution_count": 87,
   "id": "e3ad4f2e-fdc6-4e6d-9af9-56dc8600818d",
   "metadata": {},
   "outputs": [
    {
     "data": {
      "text/plain": [
       "1"
      ]
     },
     "execution_count": 87,
     "metadata": {},
     "output_type": "execute_result"
    }
   ],
   "source": [
    "p.options.niter"
   ]
  },
  {
   "cell_type": "code",
   "execution_count": 86,
   "id": "a75eb015-f087-432b-ab9f-d0c027f14c67",
   "metadata": {},
   "outputs": [
    {
     "name": "stdout",
     "output_type": "stream",
     "text": [
      "200...200...200...200...200...200...200...200...200...200...200...200...200...200...200...200...200...200...200...200...200...200...200...200...200...200...200...200...200...200...200...200...200...200...200...200...200...200...200...200...200...200...200...200...200...200...200...200...200...200...200...200...200...200...200...200...200...200...200...200...200...200...200...200...200...200...200...200...200...200...200...200...200...200...200...200...200...200...200...200...200...200...200...200...200...200...200...200...200...200...200...200...200...200...200...200...200...200...200...200...200...200...200...200...200...200...200...200...200...200...200...200...200...200...200...200...200...200...200...200...200...200...200...200...200...200...200...200...200...200...200...200...200...200...200...200...200...200...200...200...200...200...200...200...200...200...200...200...200...200...200...200...200...200...200...200...200...200...200...200...200...200...200...200...200...200...200...200...200...200...140..."
     ]
    }
   ],
   "source": [
    "for i in p5:\n",
    "    batch = i\n",
    "    print(f'{len(batch)}',end='...')"
   ]
  },
  {
   "cell_type": "code",
   "execution_count": 17,
   "id": "87fa6261-342f-414f-9acd-ba39bf20ecd2",
   "metadata": {},
   "outputs": [],
   "source": [
    "pos = pos10.data"
   ]
  },
  {
   "cell_type": "code",
   "execution_count": 18,
   "id": "d473ff35-af9a-4f7b-b198-514eb4f7d72f",
   "metadata": {},
   "outputs": [],
   "source": [
    "cfb = ds.DefaultQuerys.positive()"
   ]
  },
  {
   "cell_type": "code",
   "execution_count": 19,
   "id": "0eccfef0-555a-41cb-80b9-dfd9140c7788",
   "metadata": {},
   "outputs": [],
   "source": [
    "mixcfb = fop.map(pos,ftr.random_rot_dir())"
   ]
  },
  {
   "cell_type": "code",
   "execution_count": 28,
   "id": "c5166008-a14e-43f3-88c2-d716e19e93f3",
   "metadata": {},
   "outputs": [],
   "source": [
    "pos.options.repeat = True"
   ]
  },
  {
   "cell_type": "code",
   "execution_count": 22,
   "id": "29e92a53-7102-42dc-96db-01c1ef8a2d3c",
   "metadata": {},
   "outputs": [],
   "source": [
    "total_pos.data.options.repeat = True"
   ]
  },
  {
   "cell_type": "code",
   "execution_count": 27,
   "id": "2c2fa1be-cf62-4efe-b272-abea8dac92de",
   "metadata": {},
   "outputs": [],
   "source": [
    "for i in total_pos.data:\n",
    "    batch = i\n",
    "    print(f'{len(batch)}',end='...')"
   ]
  },
  {
   "cell_type": "code",
   "execution_count": 12,
   "id": "74233ae8-6246-4e95-82a0-dbf105ed36f6",
   "metadata": {},
   "outputs": [],
   "source": [
    "import matplotlib.pyplot as plt"
   ]
  },
  {
   "cell_type": "code",
   "execution_count": 20,
   "id": "63e8e56c-13ba-4774-a2a5-6084ce617eb0",
   "metadata": {},
   "outputs": [],
   "source": [
    "import pandas as pd"
   ]
  },
  {
   "cell_type": "code",
   "execution_count": 21,
   "id": "8adbefaf-4b97-4438-9742-98b8f75f7d6f",
   "metadata": {},
   "outputs": [
    {
     "data": {
      "text/plain": [
       "<AxesSubplot:>"
      ]
     },
     "execution_count": 21,
     "metadata": {},
     "output_type": "execute_result"
    },
    {
     "data": {
      "image/png": "[encoded data removed]",
      "text/plain": [
       "<Figure size 432x288 with 1 Axes>"
      ]
     },
     "metadata": {
      "needs_background": "light"
     },
     "output_type": "display_data"
    }
   ],
   "source": [
    "data = batch.to_pandas().iloc[0:2]\n",
    "\n",
    "ax = pd.DataFrame((data.norte-data.norte.map(np.mean)).to_dict()).plot()\n",
    "pd.DataFrame((data.este-data.este.map(np.mean)).to_dict()).plot(ax=ax)\n",
    "#plt.gca().set_aspect('equal')"
   ]
  },
  {
   "cell_type": "code",
   "execution_count": 22,
   "id": "28d34b02-9687-456a-ad1f-55d7e282642f",
   "metadata": {},
   "outputs": [
    {
     "data": {
      "text/plain": [
       "pyarrow.RecordBatch\n",
       "est: string\n",
       "iid: int64\n",
       "ep: int64\n",
       "t: list<item: date32[day]>\n",
       "  child 0, item: date32[day]\n",
       "norte: list<item: double>\n",
       "  child 0, item: double\n",
       "este: list<item: double>\n",
       "  child 0, item: double\n",
       "altura: list<item: double>\n",
       "  child 0, item: double\n",
       "etiqueta: list<item: double>\n",
       "  child 0, item: double"
      ]
     },
     "execution_count": 22,
     "metadata": {},
     "output_type": "execute_result"
    }
   ],
   "source": [
    "batch.slice(0,2)"
   ]
  },
  {
   "cell_type": "code",
   "execution_count": 23,
   "id": "7c4224fd-60f0-4763-a403-2695c35d5195",
   "metadata": {},
   "outputs": [
    {
     "name": "stderr",
     "output_type": "stream",
     "text": [
      "/home/javier/proy/dafne/apps/py.dset/venv/lib/python3.9/site-packages/dafnedset/fun_transformations.py:172: FutureWarning: pyarrow.ListValue is deprecated as of 1.0.0, please use pyarrow.ListScalar instead.\n",
      "  if isinstance(labels[0],pa.ListValue)\\\n",
      "/home/javier/proy/dafne/apps/py.dset/venv/lib/python3.9/site-packages/dafnedset/fun_transformations.py:182: FutureWarning: pyarrow.BooleanValue is deprecated as of 1.0.0, please use pyarrow.BooleanScalar instead.\n",
      "  if isinstance(labels[0],pa.BooleanValue):\n"
     ]
    },
    {
     "data": {
      "text/plain": [
       "<AxesSubplot:>"
      ]
     },
     "execution_count": 23,
     "metadata": {},
     "output_type": "execute_result"
    },
    {
     "data": {
      "image/png": "[encoded data removed]",
      "text/plain": [
       "<Figure size 432x288 with 1 Axes>"
      ]
     },
     "metadata": {
      "needs_background": "light"
     },
     "output_type": "display_data"
    }
   ],
   "source": [
    "data = ftr.channel_mix_w_relabel()(batch.slice(0,2)).to_pandas()\n",
    "\n",
    "ax = pd.DataFrame((data.norte-data.norte.map(np.mean)).to_dict()).plot()\n",
    "pd.DataFrame((data.este-data.este.map(np.mean)).to_dict()).plot(ax=ax)\n",
    "#plt.gca().set_aspect('equal')\n"
   ]
  },
  {
   "cell_type": "code",
   "execution_count": 18,
   "id": "ed1e7d63-572e-4d57-ab56-d9c2175c6a4e",
   "metadata": {},
   "outputs": [
    {
     "data": {
      "image/png": "[encoded data removed]",
      "text/plain": [
       "<Figure size 432x288 with 1 Axes>"
      ]
     },
     "metadata": {
      "needs_background": "light"
     },
     "output_type": "display_data"
    }
   ],
   "source": [
    "data = batch.to_pandas().iloc[0]\n",
    "\n",
    "plt.plot(data.norte-data.norte.mean(),data.este-data.este.mean())\n",
    "#pd.DataFrame((data.este-data.este.map(np.mean)).to_dict()).plot(ax=ax)\n",
    "plt.gca().set_aspect('equal')"
   ]
  },
  {
   "cell_type": "code",
   "execution_count": 19,
   "id": "90530c05-732b-4e11-8545-d77d1b905398",
   "metadata": {},
   "outputs": [
    {
     "data": {
      "image/png": "[encoded data removed]",
      "text/plain": [
       "<Figure size 432x288 with 1 Axes>"
      ]
     },
     "metadata": {
      "needs_background": "light"
     },
     "output_type": "display_data"
    }
   ],
   "source": [
    "data = ftr.random_rot_dir()(batch.slice(0,2)).to_pandas().iloc[0]\n",
    "\n",
    "plt.plot(data.norte-data.norte.mean(),data.este-data.este.mean())\n",
    "#pd.DataFrame((data.este-data.este.map(np.mean)).to_dict()).plot(ax=ax)\n",
    "plt.gca().set_aspect('equal')"
   ]
  },
  {
   "cell_type": "code",
   "execution_count": 20,
   "id": "0068c297-c2a9-47e8-a5df-c206ae41252d",
   "metadata": {},
   "outputs": [],
   "source": [
    "pos.options.niter = 1"
   ]
  },
  {
   "cell_type": "code",
   "execution_count": 21,
   "id": "f56b7527-51c8-4fdd-b307-64f51fa02c8a",
   "metadata": {},
   "outputs": [
    {
     "name": "stdout",
     "output_type": "stream",
     "text": [
      "100...100...100...100...100...100...100...100...100...100...100...100...100...100...100...100...100...100...100...100...100...100...100...100...100...100...100...100...100...100...100...100...100...100...100...100...100...100...100...100...100...100...100...100...100...100...100...100...100...100...100...100...100...100...100...100...100...100...100...100...100...100...100...100...100...100...100...100...28..."
     ]
    }
   ],
   "source": [
    "for i in pos:\n",
    "    batch = i\n",
    "    print(f'{len(batch)}',end='...')"
   ]
  },
  {
   "cell_type": "code",
   "execution_count": 22,
   "id": "4a93f252-940c-4c73-8f5d-5997f1a9ebcd",
   "metadata": {},
   "outputs": [],
   "source": [
    "pos.iteration=[-1]"
   ]
  },
  {
   "cell_type": "code",
   "execution_count": 23,
   "id": "0be4d75c-3406-4b3d-b79f-5cc3ed4838c1",
   "metadata": {},
   "outputs": [],
   "source": [
    "pos.exhausted=False"
   ]
  },
  {
   "cell_type": "code",
   "execution_count": 38,
   "id": "3239bc7a-40d4-4a04-8b44-99fcb23bf741",
   "metadata": {},
   "outputs": [
    {
     "data": {
      "text/plain": [
       "<dafnedset.split_simple.FunSplitter at 0x7fab21f691c0>"
      ]
     },
     "execution_count": 38,
     "metadata": {},
     "output_type": "execute_result"
    }
   ],
   "source": []
  },
  {
   "cell_type": "code",
   "execution_count": 45,
   "id": "746ac120-501a-461d-a3df-1fb6f5e4a64f",
   "metadata": {},
   "outputs": [
    {
     "data": {
      "text/plain": [
       "<dafnedset.base_simple.FunBuffer at 0x7faad8be3f40>"
      ]
     },
     "execution_count": 45,
     "metadata": {},
     "output_type": "execute_result"
    }
   ],
   "source": [
    "pos108"
   ]
  },
  {
   "cell_type": "code",
   "execution_count": 12,
   "id": "fb26981c-9c3a-4af7-baab-72dd63caeffb",
   "metadata": {},
   "outputs": [
    {
     "name": "stdout",
     "output_type": "stream",
     "text": [
      "200...184..."
     ]
    }
   ],
   "source": [
    "pos108 = (pos10.parts[3] * 8)\n",
    "\n",
    "for i in pos108:\n",
    "    batch = i\n",
    "    print(f'{len(batch)}',end='...')"
   ]
  },
  {
   "cell_type": "code",
   "execution_count": 15,
   "id": "91e0ec75-3353-4c9b-9197-fab0495f8c9f",
   "metadata": {},
   "outputs": [
    {
     "data": {
      "text/plain": [
       "0.5"
      ]
     },
     "execution_count": 15,
     "metadata": {},
     "output_type": "execute_result"
    }
   ],
   "source": [
    "100 * 0.005"
   ]
  },
  {
   "cell_type": "code",
   "execution_count": 14,
   "id": "dcf06a15-a35c-4b6e-941d-efe304661997",
   "metadata": {},
   "outputs": [
    {
     "data": {
      "text/plain": [
       "[array([ 0,  2,  4,  5,  6,  7,  8, 12, 13, 14, 15, 16, 18, 19, 20, 21, 25,\n",
       "        28, 29, 30, 31, 32, 33, 34, 35, 36, 37, 38, 40, 41, 43, 44, 45, 47,\n",
       "        48, 49, 50, 51]),\n",
       " array([ 1,  9, 22, 24, 26, 27, 42, 52]),\n",
       " array([ 3, 10, 11, 17, 23, 39, 46]),\n",
       " array([], dtype=int64)]"
      ]
     },
     "execution_count": 14,
     "metadata": {},
     "output_type": "execute_result"
    }
   ],
   "source": [
    "pos10.parts.ixes"
   ]
  },
  {
   "cell_type": "code",
   "execution_count": 40,
   "id": "52398d82-a47f-42be-915e-c3f5e12abb8f",
   "metadata": {},
   "outputs": [
    {
     "data": {
      "text/plain": [
       "pyarrow.RecordBatch\n",
       "est: string\n",
       "iid: int64\n",
       "ep: int64\n",
       "t: list<item: date32[day]>\n",
       "  child 0, item: date32[day]\n",
       "norte: list<item: double>\n",
       "  child 0, item: double\n",
       "este: list<item: double>\n",
       "  child 0, item: double\n",
       "altura: list<item: double>\n",
       "  child 0, item: double\n",
       "etiqueta: list<item: double>\n",
       "  child 0, item: double"
      ]
     },
     "execution_count": 40,
     "metadata": {},
     "output_type": "execute_result"
    }
   ],
   "source": [
    "batch"
   ]
  },
  {
   "cell_type": "code",
   "execution_count": 28,
   "id": "9ef61054-02ce-4a6e-a693-ad89e03a7c9e",
   "metadata": {},
   "outputs": [
    {
     "ename": "NameError",
     "evalue": "name 'batch2' is not defined",
     "output_type": "error",
     "traceback": [
      "\u001b[0;31m---------------------------------------------------------------------------\u001b[0m",
      "\u001b[0;31mNameError\u001b[0m                                 Traceback (most recent call last)",
      "\u001b[0;32m<ipython-input-28-5f0327c9a3eb>\u001b[0m in \u001b[0;36m<module>\u001b[0;34m\u001b[0m\n\u001b[0;32m----> 1\u001b[0;31m \u001b[0mbatch2\u001b[0m \u001b[0;34m==\u001b[0m \u001b[0mbatch\u001b[0m\u001b[0;34m\u001b[0m\u001b[0;34m\u001b[0m\u001b[0m\n\u001b[0m",
      "\u001b[0;31mNameError\u001b[0m: name 'batch2' is not defined"
     ]
    }
   ],
   "source": [
    "batch2 == batch"
   ]
  },
  {
   "cell_type": "code",
   "execution_count": 26,
   "id": "b1248083-8183-4337-9f1d-d176d42669cd",
   "metadata": {},
   "outputs": [
    {
     "data": {
      "text/plain": [
       "<dafnedset.base_simple.FunBuffer at 0x7fab06050eb0>"
      ]
     },
     "execution_count": 26,
     "metadata": {},
     "output_type": "execute_result"
    }
   ],
   "source": [
    "pos10.parts[1] * 8"
   ]
  },
  {
   "cell_type": "code",
   "execution_count": null,
   "id": "ab86e5d4-da7f-44e1-80f4-85365ed07541",
   "metadata": {},
   "outputs": [],
   "source": []
  }
 ],
 "metadata": {
  "kernelspec": {
   "display_name": "Python 3 (ipykernel)",
   "language": "python",
   "name": "python3"
  },
  "language_info": {
   "codemirror_mode": {
    "name": "ipython",
    "version": 3
   },
   "file_extension": ".py",
   "mimetype": "text/x-python",
   "name": "python",
   "nbconvert_exporter": "python",
   "pygments_lexer": "ipython3",
   "version": "3.9.7"
  }
 },
 "nbformat": 4,
 "nbformat_minor": 5
}
